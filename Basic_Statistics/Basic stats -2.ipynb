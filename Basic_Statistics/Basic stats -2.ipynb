{
 "cells": [
  {
   "cell_type": "markdown",
   "id": "f5ac49f0-b30a-47f4-b777-4587d8ca4ebc",
   "metadata": {},
   "source": [
    "### Background\n",
    "In quality control processes, especially when dealing with high-value items, destructive sampling is a necessary but costly method to ensure product quality. The test to determine whether an item meets the quality standards destroys the item, leading to the requirement of small sample sizes due to cost constraints.\n",
    "### Scenario\n",
    "A manufacturer of print-heads for personal computers is interested in estimating the mean durability of their print-heads in terms of the number of characters printed before failure. To assess this, the manufacturer conducts a study on a small sample of print-heads due to the destructive nature of the testing process.\n",
    "### Data\n",
    "A total of 15 print-heads were randomly selected and tested until failure. The durability of each print-head (in millions of characters) was recorded as follows:\n",
    "1.13, 1.55, 1.43, 0.92, 1.25, 1.36, 1.32, 0.85, 1.07, 1.48, 1.20, 1.33, 1.18, 1.22, 1.29\n"
   ]
  },
  {
   "cell_type": "markdown",
   "id": "f9547846-e26a-4e59-bc12-e5e2ddb512ea",
   "metadata": {},
   "source": [
    "## Assignment Tasks\n",
    "### a. Build 99% Confidence Interval Using Sample Standard Deviation\n",
    "   Assuming the sample is representative of the population, construct a 99% confidence interval for the mean number of characters printed before the   print-head fails using the sample standard deviation. Explain the steps you take and the rationale behind using the t-distribution for this task.\n"
   ]
  },
  {
   "cell_type": "code",
   "execution_count": 21,
   "id": "69f1015a-6536-44f5-81c0-2b03703d3c48",
   "metadata": {},
   "outputs": [
    {
     "data": {
      "text/plain": [
       "np.float64(1.2386666666666666)"
      ]
     },
     "execution_count": 21,
     "metadata": {},
     "output_type": "execute_result"
    }
   ],
   "source": [
    "import numpy as np\n",
    "n=15\n",
    "a=[1.13, 1.55, 1.43, 0.92, 1.25, 1.36, 1.32, 0.85, 1.07, 1.48, 1.20, 1.33, 1.18, 1.22, 1.29]\n",
    "mean=np.mean(a)\n",
    "mean"
   ]
  },
  {
   "cell_type": "code",
   "execution_count": 22,
   "id": "3c1e6456-1887-430a-86dd-168b6257bfa2",
   "metadata": {},
   "outputs": [
    {
     "data": {
      "text/plain": [
       "np.float64(0.18661427836285438)"
      ]
     },
     "execution_count": 22,
     "metadata": {},
     "output_type": "execute_result"
    }
   ],
   "source": [
    "std=np.std(a)\n",
    "std"
   ]
  },
  {
   "cell_type": "code",
   "execution_count": 23,
   "id": "e6a7b0a0-4431-4e28-93b7-49c9b5249858",
   "metadata": {},
   "outputs": [],
   "source": [
    "import scipy.stats as stats"
   ]
  },
  {
   "cell_type": "code",
   "execution_count": 24,
   "id": "985be39f-bc46-4eb6-8fd1-e5ca540de443",
   "metadata": {},
   "outputs": [
    {
     "data": {
      "text/plain": [
       "np.float64(2.976842734370834)"
      ]
     },
     "execution_count": 24,
     "metadata": {},
     "output_type": "execute_result"
    }
   ],
   "source": [
    "t_critical=stats.t.ppf(0.995,14)\n",
    "t_critical"
   ]
  },
  {
   "cell_type": "code",
   "execution_count": 25,
   "id": "bb3994fc-76a5-4479-bb63-0ff3427490ad",
   "metadata": {},
   "outputs": [
    {
     "data": {
      "text/plain": [
       "np.float64(1.095231668626123)"
      ]
     },
     "execution_count": 25,
     "metadata": {},
     "output_type": "execute_result"
    }
   ],
   "source": [
    "mean - t_critical * (std/np.sqrt(n)) ##Lower Bound"
   ]
  },
  {
   "cell_type": "code",
   "execution_count": 20,
   "id": "0cee6880-f6ba-4c65-8fcc-50594fe727bf",
   "metadata": {},
   "outputs": [
    {
     "data": {
      "text/plain": [
       "np.float64(1.3821016647072102)"
      ]
     },
     "execution_count": 20,
     "metadata": {},
     "output_type": "execute_result"
    }
   ],
   "source": [
    "mean + t_critical * (std/np.sqrt(n)) ##Upper Bound"
   ]
  },
  {
   "cell_type": "markdown",
   "id": "bbc32ecd-d050-4ea9-af7a-c876ec832e5c",
   "metadata": {},
   "source": [
    "## b. Build 99% Confidence Interval Using Known Population Standard Deviation\n",
    "If it were known that the population standard deviation is 0.2 million characters, construct a 99% confidence interval for the mean number of characters printed before failure.\n"
   ]
  },
  {
   "cell_type": "code",
   "execution_count": 27,
   "id": "479ee99b-a8f1-4319-aaf4-872dbdb97cb2",
   "metadata": {},
   "outputs": [
    {
     "data": {
      "text/plain": [
       "np.float64(2.5758293035489004)"
      ]
     },
     "execution_count": 27,
     "metadata": {},
     "output_type": "execute_result"
    }
   ],
   "source": [
    "z_critical=stats.norm.ppf(0.995)\n",
    "z_critical"
   ]
  },
  {
   "cell_type": "code",
   "execution_count": 28,
   "id": "4bd69cc0-a9b8-40f2-a335-6aa40083970a",
   "metadata": {},
   "outputs": [],
   "source": [
    "std_given=0.2"
   ]
  },
  {
   "cell_type": "code",
   "execution_count": 29,
   "id": "d43f7292-8273-4b62-a135-5c0f867512f6",
   "metadata": {},
   "outputs": [
    {
     "data": {
      "text/plain": [
       "np.float64(1.1056514133957607)"
      ]
     },
     "execution_count": 29,
     "metadata": {},
     "output_type": "execute_result"
    }
   ],
   "source": [
    "mean - z_critical * (std_given/np.sqrt(n)) ## Lower Bound"
   ]
  },
  {
   "cell_type": "code",
   "execution_count": 30,
   "id": "5a52db68-5350-4615-b27d-582178c77c9e",
   "metadata": {},
   "outputs": [
    {
     "data": {
      "text/plain": [
       "np.float64(1.3716819199375725)"
      ]
     },
     "execution_count": 30,
     "metadata": {},
     "output_type": "execute_result"
    }
   ],
   "source": [
    "mean + z_critical * (std_given/np.sqrt(n)) ## Upper Bound"
   ]
  },
  {
   "cell_type": "code",
   "execution_count": null,
   "id": "bb0c837c-5550-4948-98fb-12f7c7280f3e",
   "metadata": {},
   "outputs": [],
   "source": []
  }
 ],
 "metadata": {
  "kernelspec": {
   "display_name": "Python 3 (ipykernel)",
   "language": "python",
   "name": "python3"
  },
  "language_info": {
   "codemirror_mode": {
    "name": "ipython",
    "version": 3
   },
   "file_extension": ".py",
   "mimetype": "text/x-python",
   "name": "python",
   "nbconvert_exporter": "python",
   "pygments_lexer": "ipython3",
   "version": "3.13.5"
  }
 },
 "nbformat": 4,
 "nbformat_minor": 5
}

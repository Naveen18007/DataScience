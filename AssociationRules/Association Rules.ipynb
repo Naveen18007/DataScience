{
 "cells": [
  {
   "cell_type": "markdown",
   "id": "fad1aca8-18ef-4a14-8b6f-3e42f6325ab8",
   "metadata": {},
   "source": [
    "The Objective of this assignment is to introduce students to rule mining techniques, particularly focusing on market basket analysis and provide hands on experience.\n",
    "## Dataset:\n",
    "    Use the Online retail dataset to apply the association rules.\n",
    "## Data Preprocessing:\n",
    "    Pre-process the dataset to ensure it is suitable for Association rules, this may include handling missing values, removing duplicates, and converting the data to appropriate format.  \n"
   ]
  },
  {
   "cell_type": "code",
   "execution_count": 3,
   "id": "6a8e3bb4-6bde-4f5f-b3a2-413d0edf554a",
   "metadata": {},
   "outputs": [],
   "source": [
    "import numpy as np\n",
    "import pandas as pd\n",
    "import matplotlib.pyplot as plt\n",
    "import seaborn as sns"
   ]
  },
  {
   "cell_type": "code",
   "execution_count": 4,
   "id": "47fcad62-1928-423a-bcdd-7d5862580599",
   "metadata": {},
   "outputs": [
    {
     "data": {
      "text/html": [
       "<div>\n",
       "<style scoped>\n",
       "    .dataframe tbody tr th:only-of-type {\n",
       "        vertical-align: middle;\n",
       "    }\n",
       "\n",
       "    .dataframe tbody tr th {\n",
       "        vertical-align: top;\n",
       "    }\n",
       "\n",
       "    .dataframe thead th {\n",
       "        text-align: right;\n",
       "    }\n",
       "</style>\n",
       "<table border=\"1\" class=\"dataframe\">\n",
       "  <thead>\n",
       "    <tr style=\"text-align: right;\">\n",
       "      <th></th>\n",
       "      <th>0</th>\n",
       "    </tr>\n",
       "  </thead>\n",
       "  <tbody>\n",
       "    <tr>\n",
       "      <th>0</th>\n",
       "      <td>shrimp,almonds,avocado,vegetables mix,green gr...</td>\n",
       "    </tr>\n",
       "    <tr>\n",
       "      <th>1</th>\n",
       "      <td>burgers,meatballs,eggs</td>\n",
       "    </tr>\n",
       "    <tr>\n",
       "      <th>2</th>\n",
       "      <td>chutney</td>\n",
       "    </tr>\n",
       "    <tr>\n",
       "      <th>3</th>\n",
       "      <td>turkey,avocado</td>\n",
       "    </tr>\n",
       "    <tr>\n",
       "      <th>4</th>\n",
       "      <td>mineral water,milk,energy bar,whole wheat rice...</td>\n",
       "    </tr>\n",
       "  </tbody>\n",
       "</table>\n",
       "</div>"
      ],
      "text/plain": [
       "                                                   0\n",
       "0  shrimp,almonds,avocado,vegetables mix,green gr...\n",
       "1                             burgers,meatballs,eggs\n",
       "2                                            chutney\n",
       "3                                     turkey,avocado\n",
       "4  mineral water,milk,energy bar,whole wheat rice..."
      ]
     },
     "execution_count": 4,
     "metadata": {},
     "output_type": "execute_result"
    }
   ],
   "source": [
    "df=pd.read_csv('Online retail.csv',header=None)\n",
    "df.head()"
   ]
  },
  {
   "cell_type": "code",
   "execution_count": 5,
   "id": "348df7cf-327a-44a1-8633-5c19902f9d74",
   "metadata": {},
   "outputs": [
    {
     "data": {
      "text/plain": [
       "0    0\n",
       "dtype: int64"
      ]
     },
     "execution_count": 5,
     "metadata": {},
     "output_type": "execute_result"
    }
   ],
   "source": [
    "df.isnull().sum()"
   ]
  },
  {
   "cell_type": "code",
   "execution_count": 6,
   "id": "812f4105-cb92-423c-9eec-044b54acb2ac",
   "metadata": {},
   "outputs": [
    {
     "data": {
      "text/plain": [
       "np.int64(2325)"
      ]
     },
     "execution_count": 6,
     "metadata": {},
     "output_type": "execute_result"
    }
   ],
   "source": [
    "df.duplicated().sum()"
   ]
  },
  {
   "cell_type": "code",
   "execution_count": 7,
   "id": "5735b54d-5251-4a8f-a8df-958536beb958",
   "metadata": {},
   "outputs": [
    {
     "data": {
      "text/plain": [
       "7501"
      ]
     },
     "execution_count": 7,
     "metadata": {},
     "output_type": "execute_result"
    }
   ],
   "source": [
    "len(df)"
   ]
  },
  {
   "cell_type": "code",
   "execution_count": 8,
   "id": "058b53d4-355e-4f24-a505-eaeae5b9189d",
   "metadata": {},
   "outputs": [
    {
     "data": {
      "text/plain": [
       "0       [shrimp, almonds, avocado, vegetables mix, gre...\n",
       "1                              [burgers, meatballs, eggs]\n",
       "2                                               [chutney]\n",
       "3                                       [turkey, avocado]\n",
       "4       [mineral water, milk, energy bar, whole wheat ...\n",
       "                              ...                        \n",
       "7496                    [butter, light mayo, fresh bread]\n",
       "7497    [burgers, frozen vegetables, eggs, french frie...\n",
       "7498                                            [chicken]\n",
       "7499                                [escalope, green tea]\n",
       "7500    [eggs, frozen smoothie, yogurt cake, low fat y...\n",
       "Name: 0, Length: 7501, dtype: object"
      ]
     },
     "execution_count": 8,
     "metadata": {},
     "output_type": "execute_result"
    }
   ],
   "source": [
    "\n",
    "transactions = df.iloc[:, 0].apply(lambda x: str(x).split(','))\n",
    "transactions"
   ]
  },
  {
   "cell_type": "code",
   "execution_count": 9,
   "id": "e1d36906-b2df-4164-a95d-3d08833b3cd6",
   "metadata": {},
   "outputs": [],
   "source": [
    "all_items = set()\n",
    "for transaction in transactions:\n",
    "    all_items.update([item.strip() for item in transaction])\n",
    "all_items = sorted(all_items)"
   ]
  },
  {
   "cell_type": "code",
   "execution_count": 10,
   "id": "edb6f314-9b77-4f26-8d02-50493689be60",
   "metadata": {},
   "outputs": [
    {
     "data": {
      "text/plain": [
       "['almonds',\n",
       " 'antioxydant juice',\n",
       " 'asparagus',\n",
       " 'avocado',\n",
       " 'babies food',\n",
       " 'bacon',\n",
       " 'barbecue sauce',\n",
       " 'black tea',\n",
       " 'blueberries',\n",
       " 'body spray',\n",
       " 'bramble',\n",
       " 'brownies',\n",
       " 'bug spray',\n",
       " 'burger sauce',\n",
       " 'burgers',\n",
       " 'butter',\n",
       " 'cake',\n",
       " 'candy bars',\n",
       " 'carrots',\n",
       " 'cauliflower',\n",
       " 'cereals',\n",
       " 'champagne',\n",
       " 'chicken',\n",
       " 'chili',\n",
       " 'chocolate',\n",
       " 'chocolate bread',\n",
       " 'chutney',\n",
       " 'cider',\n",
       " 'clothes accessories',\n",
       " 'cookies',\n",
       " 'cooking oil',\n",
       " 'corn',\n",
       " 'cottage cheese',\n",
       " 'cream',\n",
       " 'dessert wine',\n",
       " 'eggplant',\n",
       " 'eggs',\n",
       " 'energy bar',\n",
       " 'energy drink',\n",
       " 'escalope',\n",
       " 'extra dark chocolate',\n",
       " 'flax seed',\n",
       " 'french fries',\n",
       " 'french wine',\n",
       " 'fresh bread',\n",
       " 'fresh tuna',\n",
       " 'fromage blanc',\n",
       " 'frozen smoothie',\n",
       " 'frozen vegetables',\n",
       " 'gluten free bar',\n",
       " 'grated cheese',\n",
       " 'green beans',\n",
       " 'green grapes',\n",
       " 'green tea',\n",
       " 'ground beef',\n",
       " 'gums',\n",
       " 'ham',\n",
       " 'hand protein bar',\n",
       " 'herb & pepper',\n",
       " 'honey',\n",
       " 'hot dogs',\n",
       " 'ketchup',\n",
       " 'light cream',\n",
       " 'light mayo',\n",
       " 'low fat yogurt',\n",
       " 'magazines',\n",
       " 'mashed potato',\n",
       " 'mayonnaise',\n",
       " 'meatballs',\n",
       " 'melons',\n",
       " 'milk',\n",
       " 'mineral water',\n",
       " 'mint',\n",
       " 'mint green tea',\n",
       " 'muffins',\n",
       " 'mushroom cream sauce',\n",
       " 'napkins',\n",
       " 'nonfat milk',\n",
       " 'oatmeal',\n",
       " 'oil',\n",
       " 'olive oil',\n",
       " 'pancakes',\n",
       " 'parmesan cheese',\n",
       " 'pasta',\n",
       " 'pepper',\n",
       " 'pet food',\n",
       " 'pickles',\n",
       " 'protein bar',\n",
       " 'red wine',\n",
       " 'rice',\n",
       " 'salad',\n",
       " 'salmon',\n",
       " 'salt',\n",
       " 'sandwich',\n",
       " 'shallot',\n",
       " 'shampoo',\n",
       " 'shrimp',\n",
       " 'soda',\n",
       " 'soup',\n",
       " 'spaghetti',\n",
       " 'sparkling water',\n",
       " 'spinach',\n",
       " 'strawberries',\n",
       " 'strong cheese',\n",
       " 'tea',\n",
       " 'tomato juice',\n",
       " 'tomato sauce',\n",
       " 'tomatoes',\n",
       " 'toothpaste',\n",
       " 'turkey',\n",
       " 'vegetables mix',\n",
       " 'water spray',\n",
       " 'white wine',\n",
       " 'whole weat flour',\n",
       " 'whole wheat pasta',\n",
       " 'whole wheat rice',\n",
       " 'yams',\n",
       " 'yogurt cake',\n",
       " 'zucchini']"
      ]
     },
     "execution_count": 10,
     "metadata": {},
     "output_type": "execute_result"
    }
   ],
   "source": [
    "all_items"
   ]
  },
  {
   "cell_type": "code",
   "execution_count": 11,
   "id": "e35d2554-0e3f-4ae3-a974-76b5a66196bd",
   "metadata": {},
   "outputs": [
    {
     "data": {
      "text/plain": [
       "119"
      ]
     },
     "execution_count": 11,
     "metadata": {},
     "output_type": "execute_result"
    }
   ],
   "source": [
    "len(all_items)"
   ]
  },
  {
   "cell_type": "markdown",
   "id": "3f0f2200-3842-4e6b-9d9b-20aff61ba0f9",
   "metadata": {},
   "source": [
    "## Association Rule Mining:\n",
    "     •\tImplement an Apriori algorithm using tool like python with libraries such as Pandas and Mlxtend etc.\n",
    "     •\t Apply association rule mining techniques to the pre-processed dataset to discover interesting relationships between products purchased together.\n",
    "     •\tSet appropriate threshold for support, confidence and lift to extract meaning full rules.\n"
   ]
  },
  {
   "cell_type": "code",
   "execution_count": 12,
   "id": "16573b1f-09e0-44ee-b0b8-6bec7fc5a03d",
   "metadata": {},
   "outputs": [],
   "source": [
    "from mlxtend.frequent_patterns import apriori,association_rules,fpgrowth\n",
    "from mlxtend.preprocessing import TransactionEncoder"
   ]
  },
  {
   "cell_type": "code",
   "execution_count": 23,
   "id": "294a7937-6f95-4ac5-ac11-01031004e806",
   "metadata": {},
   "outputs": [
    {
     "name": "stdout",
     "output_type": "stream",
     "text": [
      "Requirement already satisfied: mlxtend in d:\\anaconda3\\lib\\site-packages (0.23.4)\n",
      "Requirement already satisfied: scipy>=1.2.1 in d:\\anaconda3\\lib\\site-packages (from mlxtend) (1.15.3)\n",
      "Requirement already satisfied: numpy>=1.16.2 in c:\\users\\navee\\appdata\\roaming\\python\\python313\\site-packages (from mlxtend) (2.2.2)\n",
      "Requirement already satisfied: pandas>=0.24.2 in c:\\users\\navee\\appdata\\roaming\\python\\python313\\site-packages (from mlxtend) (2.2.3)\n",
      "Requirement already satisfied: scikit-learn>=1.3.1 in d:\\anaconda3\\lib\\site-packages (from mlxtend) (1.6.1)\n",
      "Requirement already satisfied: matplotlib>=3.0.0 in d:\\anaconda3\\lib\\site-packages (from mlxtend) (3.10.0)\n",
      "Requirement already satisfied: joblib>=0.13.2 in d:\\anaconda3\\lib\\site-packages (from mlxtend) (1.4.2)\n",
      "Requirement already satisfied: contourpy>=1.0.1 in d:\\anaconda3\\lib\\site-packages (from matplotlib>=3.0.0->mlxtend) (1.3.1)\n",
      "Requirement already satisfied: cycler>=0.10 in d:\\anaconda3\\lib\\site-packages (from matplotlib>=3.0.0->mlxtend) (0.11.0)\n",
      "Requirement already satisfied: fonttools>=4.22.0 in d:\\anaconda3\\lib\\site-packages (from matplotlib>=3.0.0->mlxtend) (4.55.3)\n",
      "Requirement already satisfied: kiwisolver>=1.3.1 in d:\\anaconda3\\lib\\site-packages (from matplotlib>=3.0.0->mlxtend) (1.4.8)\n",
      "Requirement already satisfied: packaging>=20.0 in c:\\users\\navee\\appdata\\roaming\\python\\python313\\site-packages (from matplotlib>=3.0.0->mlxtend) (24.2)\n",
      "Requirement already satisfied: pillow>=8 in c:\\users\\navee\\appdata\\roaming\\python\\python313\\site-packages (from matplotlib>=3.0.0->mlxtend) (11.1.0)\n",
      "Requirement already satisfied: pyparsing>=2.3.1 in d:\\anaconda3\\lib\\site-packages (from matplotlib>=3.0.0->mlxtend) (3.2.0)\n",
      "Requirement already satisfied: python-dateutil>=2.7 in c:\\users\\navee\\appdata\\roaming\\python\\python313\\site-packages (from matplotlib>=3.0.0->mlxtend) (2.9.0.post0)\n",
      "Requirement already satisfied: pytz>=2020.1 in c:\\users\\navee\\appdata\\roaming\\python\\python313\\site-packages (from pandas>=0.24.2->mlxtend) (2024.2)\n",
      "Requirement already satisfied: tzdata>=2022.7 in c:\\users\\navee\\appdata\\roaming\\python\\python313\\site-packages (from pandas>=0.24.2->mlxtend) (2024.2)\n",
      "Requirement already satisfied: six>=1.5 in c:\\users\\navee\\appdata\\roaming\\python\\python313\\site-packages (from python-dateutil>=2.7->matplotlib>=3.0.0->mlxtend) (1.17.0)\n",
      "Requirement already satisfied: threadpoolctl>=3.1.0 in d:\\anaconda3\\lib\\site-packages (from scikit-learn>=1.3.1->mlxtend) (3.5.0)\n"
     ]
    }
   ],
   "source": [
    "!pip install mlxtend"
   ]
  },
  {
   "cell_type": "code",
   "execution_count": 13,
   "id": "691edce3-2c8b-40a9-a5db-8bcf1e3d8ed6",
   "metadata": {},
   "outputs": [],
   "source": [
    "one_hot= TransactionEncoder().fit(transactions)"
   ]
  },
  {
   "cell_type": "code",
   "execution_count": 14,
   "id": "d6c780e2-99b0-4efd-93b2-dee5bebecc6f",
   "metadata": {},
   "outputs": [],
   "source": [
    "data= one_hot.transform(transactions)\n",
    "data1=pd.DataFrame(data,columns=one_hot.columns_)"
   ]
  },
  {
   "cell_type": "code",
   "execution_count": 15,
   "id": "5b1d2f39-3f75-40f8-8cb2-0ca29b722108",
   "metadata": {},
   "outputs": [
    {
     "data": {
      "text/plain": [
       "(7501, 120)"
      ]
     },
     "execution_count": 15,
     "metadata": {},
     "output_type": "execute_result"
    }
   ],
   "source": [
    "data1.shape"
   ]
  },
  {
   "cell_type": "code",
   "execution_count": 17,
   "id": "0c3c2ca0-c160-4914-8f1b-01e1d797bac1",
   "metadata": {},
   "outputs": [
    {
     "data": {
      "text/html": [
       "<div>\n",
       "<style scoped>\n",
       "    .dataframe tbody tr th:only-of-type {\n",
       "        vertical-align: middle;\n",
       "    }\n",
       "\n",
       "    .dataframe tbody tr th {\n",
       "        vertical-align: top;\n",
       "    }\n",
       "\n",
       "    .dataframe thead th {\n",
       "        text-align: right;\n",
       "    }\n",
       "</style>\n",
       "<table border=\"1\" class=\"dataframe\">\n",
       "  <thead>\n",
       "    <tr style=\"text-align: right;\">\n",
       "      <th></th>\n",
       "      <th>asparagus</th>\n",
       "      <th>almonds</th>\n",
       "      <th>antioxydant juice</th>\n",
       "      <th>asparagus</th>\n",
       "      <th>avocado</th>\n",
       "      <th>babies food</th>\n",
       "      <th>bacon</th>\n",
       "      <th>barbecue sauce</th>\n",
       "      <th>black tea</th>\n",
       "      <th>blueberries</th>\n",
       "      <th>...</th>\n",
       "      <th>turkey</th>\n",
       "      <th>vegetables mix</th>\n",
       "      <th>water spray</th>\n",
       "      <th>white wine</th>\n",
       "      <th>whole weat flour</th>\n",
       "      <th>whole wheat pasta</th>\n",
       "      <th>whole wheat rice</th>\n",
       "      <th>yams</th>\n",
       "      <th>yogurt cake</th>\n",
       "      <th>zucchini</th>\n",
       "    </tr>\n",
       "  </thead>\n",
       "  <tbody>\n",
       "    <tr>\n",
       "      <th>0</th>\n",
       "      <td>False</td>\n",
       "      <td>True</td>\n",
       "      <td>True</td>\n",
       "      <td>False</td>\n",
       "      <td>True</td>\n",
       "      <td>False</td>\n",
       "      <td>False</td>\n",
       "      <td>False</td>\n",
       "      <td>False</td>\n",
       "      <td>False</td>\n",
       "      <td>...</td>\n",
       "      <td>False</td>\n",
       "      <td>True</td>\n",
       "      <td>False</td>\n",
       "      <td>False</td>\n",
       "      <td>True</td>\n",
       "      <td>False</td>\n",
       "      <td>False</td>\n",
       "      <td>True</td>\n",
       "      <td>False</td>\n",
       "      <td>False</td>\n",
       "    </tr>\n",
       "    <tr>\n",
       "      <th>1</th>\n",
       "      <td>False</td>\n",
       "      <td>False</td>\n",
       "      <td>False</td>\n",
       "      <td>False</td>\n",
       "      <td>False</td>\n",
       "      <td>False</td>\n",
       "      <td>False</td>\n",
       "      <td>False</td>\n",
       "      <td>False</td>\n",
       "      <td>False</td>\n",
       "      <td>...</td>\n",
       "      <td>False</td>\n",
       "      <td>False</td>\n",
       "      <td>False</td>\n",
       "      <td>False</td>\n",
       "      <td>False</td>\n",
       "      <td>False</td>\n",
       "      <td>False</td>\n",
       "      <td>False</td>\n",
       "      <td>False</td>\n",
       "      <td>False</td>\n",
       "    </tr>\n",
       "    <tr>\n",
       "      <th>2</th>\n",
       "      <td>False</td>\n",
       "      <td>False</td>\n",
       "      <td>False</td>\n",
       "      <td>False</td>\n",
       "      <td>False</td>\n",
       "      <td>False</td>\n",
       "      <td>False</td>\n",
       "      <td>False</td>\n",
       "      <td>False</td>\n",
       "      <td>False</td>\n",
       "      <td>...</td>\n",
       "      <td>False</td>\n",
       "      <td>False</td>\n",
       "      <td>False</td>\n",
       "      <td>False</td>\n",
       "      <td>False</td>\n",
       "      <td>False</td>\n",
       "      <td>False</td>\n",
       "      <td>False</td>\n",
       "      <td>False</td>\n",
       "      <td>False</td>\n",
       "    </tr>\n",
       "    <tr>\n",
       "      <th>3</th>\n",
       "      <td>False</td>\n",
       "      <td>False</td>\n",
       "      <td>False</td>\n",
       "      <td>False</td>\n",
       "      <td>True</td>\n",
       "      <td>False</td>\n",
       "      <td>False</td>\n",
       "      <td>False</td>\n",
       "      <td>False</td>\n",
       "      <td>False</td>\n",
       "      <td>...</td>\n",
       "      <td>True</td>\n",
       "      <td>False</td>\n",
       "      <td>False</td>\n",
       "      <td>False</td>\n",
       "      <td>False</td>\n",
       "      <td>False</td>\n",
       "      <td>False</td>\n",
       "      <td>False</td>\n",
       "      <td>False</td>\n",
       "      <td>False</td>\n",
       "    </tr>\n",
       "    <tr>\n",
       "      <th>4</th>\n",
       "      <td>False</td>\n",
       "      <td>False</td>\n",
       "      <td>False</td>\n",
       "      <td>False</td>\n",
       "      <td>False</td>\n",
       "      <td>False</td>\n",
       "      <td>False</td>\n",
       "      <td>False</td>\n",
       "      <td>False</td>\n",
       "      <td>False</td>\n",
       "      <td>...</td>\n",
       "      <td>False</td>\n",
       "      <td>False</td>\n",
       "      <td>False</td>\n",
       "      <td>False</td>\n",
       "      <td>False</td>\n",
       "      <td>False</td>\n",
       "      <td>True</td>\n",
       "      <td>False</td>\n",
       "      <td>False</td>\n",
       "      <td>False</td>\n",
       "    </tr>\n",
       "  </tbody>\n",
       "</table>\n",
       "<p>5 rows × 120 columns</p>\n",
       "</div>"
      ],
      "text/plain": [
       "    asparagus  almonds  antioxydant juice  asparagus  avocado  babies food  \\\n",
       "0       False     True               True      False     True        False   \n",
       "1       False    False              False      False    False        False   \n",
       "2       False    False              False      False    False        False   \n",
       "3       False    False              False      False     True        False   \n",
       "4       False    False              False      False    False        False   \n",
       "\n",
       "   bacon  barbecue sauce  black tea  blueberries  ...  turkey  vegetables mix  \\\n",
       "0  False           False      False        False  ...   False            True   \n",
       "1  False           False      False        False  ...   False           False   \n",
       "2  False           False      False        False  ...   False           False   \n",
       "3  False           False      False        False  ...    True           False   \n",
       "4  False           False      False        False  ...   False           False   \n",
       "\n",
       "   water spray  white wine  whole weat flour  whole wheat pasta  \\\n",
       "0        False       False              True              False   \n",
       "1        False       False             False              False   \n",
       "2        False       False             False              False   \n",
       "3        False       False             False              False   \n",
       "4        False       False             False              False   \n",
       "\n",
       "   whole wheat rice   yams  yogurt cake  zucchini  \n",
       "0             False   True        False     False  \n",
       "1             False  False        False     False  \n",
       "2             False  False        False     False  \n",
       "3             False  False        False     False  \n",
       "4              True  False        False     False  \n",
       "\n",
       "[5 rows x 120 columns]"
      ]
     },
     "execution_count": 17,
     "metadata": {},
     "output_type": "execute_result"
    }
   ],
   "source": [
    "data1.head()"
   ]
  },
  {
   "cell_type": "code",
   "execution_count": 18,
   "id": "5a3cc98d-573e-49c6-9426-4dd1feb10a7f",
   "metadata": {},
   "outputs": [],
   "source": [
    "freq_patterns = fpgrowth(data1, min_support=0.05, use_colnames=True)\n"
   ]
  },
  {
   "cell_type": "code",
   "execution_count": 19,
   "id": "1a0dbca1-81c9-461b-80ee-f1f4dc1e032b",
   "metadata": {},
   "outputs": [
    {
     "data": {
      "text/html": [
       "<div>\n",
       "<style scoped>\n",
       "    .dataframe tbody tr th:only-of-type {\n",
       "        vertical-align: middle;\n",
       "    }\n",
       "\n",
       "    .dataframe tbody tr th {\n",
       "        vertical-align: top;\n",
       "    }\n",
       "\n",
       "    .dataframe thead th {\n",
       "        text-align: right;\n",
       "    }\n",
       "</style>\n",
       "<table border=\"1\" class=\"dataframe\">\n",
       "  <thead>\n",
       "    <tr style=\"text-align: right;\">\n",
       "      <th></th>\n",
       "      <th>antecedents</th>\n",
       "      <th>consequents</th>\n",
       "      <th>antecedent support</th>\n",
       "      <th>consequent support</th>\n",
       "      <th>support</th>\n",
       "      <th>confidence</th>\n",
       "      <th>lift</th>\n",
       "      <th>representativity</th>\n",
       "      <th>leverage</th>\n",
       "      <th>conviction</th>\n",
       "      <th>zhangs_metric</th>\n",
       "      <th>jaccard</th>\n",
       "      <th>certainty</th>\n",
       "      <th>kulczynski</th>\n",
       "    </tr>\n",
       "  </thead>\n",
       "  <tbody>\n",
       "    <tr>\n",
       "      <th>0</th>\n",
       "      <td>(mineral water)</td>\n",
       "      <td>(eggs)</td>\n",
       "      <td>0.238368</td>\n",
       "      <td>0.179709</td>\n",
       "      <td>0.050927</td>\n",
       "      <td>0.213647</td>\n",
       "      <td>1.188845</td>\n",
       "      <td>1.0</td>\n",
       "      <td>0.008090</td>\n",
       "      <td>1.043158</td>\n",
       "      <td>0.208562</td>\n",
       "      <td>0.138707</td>\n",
       "      <td>0.041372</td>\n",
       "      <td>0.248515</td>\n",
       "    </tr>\n",
       "    <tr>\n",
       "      <th>1</th>\n",
       "      <td>(eggs)</td>\n",
       "      <td>(mineral water)</td>\n",
       "      <td>0.179709</td>\n",
       "      <td>0.238368</td>\n",
       "      <td>0.050927</td>\n",
       "      <td>0.283383</td>\n",
       "      <td>1.188845</td>\n",
       "      <td>1.0</td>\n",
       "      <td>0.008090</td>\n",
       "      <td>1.062815</td>\n",
       "      <td>0.193648</td>\n",
       "      <td>0.138707</td>\n",
       "      <td>0.059103</td>\n",
       "      <td>0.248515</td>\n",
       "    </tr>\n",
       "    <tr>\n",
       "      <th>2</th>\n",
       "      <td>(mineral water)</td>\n",
       "      <td>(spaghetti)</td>\n",
       "      <td>0.238368</td>\n",
       "      <td>0.174110</td>\n",
       "      <td>0.059725</td>\n",
       "      <td>0.250559</td>\n",
       "      <td>1.439085</td>\n",
       "      <td>1.0</td>\n",
       "      <td>0.018223</td>\n",
       "      <td>1.102008</td>\n",
       "      <td>0.400606</td>\n",
       "      <td>0.169312</td>\n",
       "      <td>0.092566</td>\n",
       "      <td>0.296796</td>\n",
       "    </tr>\n",
       "    <tr>\n",
       "      <th>3</th>\n",
       "      <td>(spaghetti)</td>\n",
       "      <td>(mineral water)</td>\n",
       "      <td>0.174110</td>\n",
       "      <td>0.238368</td>\n",
       "      <td>0.059725</td>\n",
       "      <td>0.343032</td>\n",
       "      <td>1.439085</td>\n",
       "      <td>1.0</td>\n",
       "      <td>0.018223</td>\n",
       "      <td>1.159314</td>\n",
       "      <td>0.369437</td>\n",
       "      <td>0.169312</td>\n",
       "      <td>0.137421</td>\n",
       "      <td>0.296796</td>\n",
       "    </tr>\n",
       "    <tr>\n",
       "      <th>4</th>\n",
       "      <td>(mineral water)</td>\n",
       "      <td>(chocolate)</td>\n",
       "      <td>0.238368</td>\n",
       "      <td>0.163845</td>\n",
       "      <td>0.052660</td>\n",
       "      <td>0.220917</td>\n",
       "      <td>1.348332</td>\n",
       "      <td>1.0</td>\n",
       "      <td>0.013604</td>\n",
       "      <td>1.073256</td>\n",
       "      <td>0.339197</td>\n",
       "      <td>0.150648</td>\n",
       "      <td>0.068256</td>\n",
       "      <td>0.271158</td>\n",
       "    </tr>\n",
       "    <tr>\n",
       "      <th>5</th>\n",
       "      <td>(chocolate)</td>\n",
       "      <td>(mineral water)</td>\n",
       "      <td>0.163845</td>\n",
       "      <td>0.238368</td>\n",
       "      <td>0.052660</td>\n",
       "      <td>0.321400</td>\n",
       "      <td>1.348332</td>\n",
       "      <td>1.0</td>\n",
       "      <td>0.013604</td>\n",
       "      <td>1.122357</td>\n",
       "      <td>0.308965</td>\n",
       "      <td>0.150648</td>\n",
       "      <td>0.109018</td>\n",
       "      <td>0.271158</td>\n",
       "    </tr>\n",
       "  </tbody>\n",
       "</table>\n",
       "</div>"
      ],
      "text/plain": [
       "       antecedents      consequents  antecedent support  consequent support  \\\n",
       "0  (mineral water)           (eggs)            0.238368            0.179709   \n",
       "1           (eggs)  (mineral water)            0.179709            0.238368   \n",
       "2  (mineral water)      (spaghetti)            0.238368            0.174110   \n",
       "3      (spaghetti)  (mineral water)            0.174110            0.238368   \n",
       "4  (mineral water)      (chocolate)            0.238368            0.163845   \n",
       "5      (chocolate)  (mineral water)            0.163845            0.238368   \n",
       "\n",
       "    support  confidence      lift  representativity  leverage  conviction  \\\n",
       "0  0.050927    0.213647  1.188845               1.0  0.008090    1.043158   \n",
       "1  0.050927    0.283383  1.188845               1.0  0.008090    1.062815   \n",
       "2  0.059725    0.250559  1.439085               1.0  0.018223    1.102008   \n",
       "3  0.059725    0.343032  1.439085               1.0  0.018223    1.159314   \n",
       "4  0.052660    0.220917  1.348332               1.0  0.013604    1.073256   \n",
       "5  0.052660    0.321400  1.348332               1.0  0.013604    1.122357   \n",
       "\n",
       "   zhangs_metric   jaccard  certainty  kulczynski  \n",
       "0       0.208562  0.138707   0.041372    0.248515  \n",
       "1       0.193648  0.138707   0.059103    0.248515  \n",
       "2       0.400606  0.169312   0.092566    0.296796  \n",
       "3       0.369437  0.169312   0.137421    0.296796  \n",
       "4       0.339197  0.150648   0.068256    0.271158  \n",
       "5       0.308965  0.150648   0.109018    0.271158  "
      ]
     },
     "execution_count": 19,
     "metadata": {},
     "output_type": "execute_result"
    }
   ],
   "source": [
    "association_rules(freq_patterns,metric='confidence',min_threshold=0.05)"
   ]
  },
  {
   "cell_type": "markdown",
   "id": "fc400afd-e5a7-4a7d-a087-93d87332c18c",
   "metadata": {},
   "source": [
    "## Analysis and Interpretation:\n",
    "    • Analyse the generated rules to identify interesting patterns and relationships between the products.\n",
    "\n",
    "            Cutomers who buys mineral water has also buys eggs,spaghetti,chocolate whose confidence and support are high.These products are frequently purchased as shown by the rules.\n",
    "            \n",
    "    • Interpret the results and provide insights into customer purchasing behaviour based on the discovered rules.\n",
    "\n",
    "            Lift > 1 indicates a positive relationship: the antecedent increases the likelihood of the consequent.\n",
    "\n",
    "            People purchasing chocolate are likely to also buy mineral water → possible preference for combining treats with drinks.\n"
   ]
  },
  {
   "cell_type": "markdown",
   "id": "83969349-80b4-4de6-8e04-5aef0ddb5a32",
   "metadata": {},
   "source": [
    "## Interview Questions:\n",
    "    1. What is lift and why is it important in Association rules?\n",
    "    \n",
    "          Lift measures how much more likely the consequent is purchased when the antecedent is purchased, compared to random chance.\n",
    "          \n",
    "    2. What is support and Confidence. How do you calculate them?\n",
    "    \n",
    "          Fraction of transactions that contain both antecedent and consequent.\n",
    "          \n",
    "          Probability that the consequent is bought given that the antecedent is bought.\n",
    "          \n",
    "    3. What are some limitations or challenges of Association rules mining?\n",
    "\n",
    "          Not suitable for larger items\n",
    "          \n",
    "          Does not capture rare relationships\n",
    "\n",
    "          Poor selection of support and confidence thresholds may lead to either too many or too few rules."
   ]
  },
  {
   "cell_type": "code",
   "execution_count": null,
   "id": "d126f888-1d54-46a5-b671-f05fe943c8bd",
   "metadata": {},
   "outputs": [],
   "source": []
  }
 ],
 "metadata": {
  "kernelspec": {
   "display_name": "Python 3 (ipykernel)",
   "language": "python",
   "name": "python3"
  },
  "language_info": {
   "codemirror_mode": {
    "name": "ipython",
    "version": 3
   },
   "file_extension": ".py",
   "mimetype": "text/x-python",
   "name": "python",
   "nbconvert_exporter": "python",
   "pygments_lexer": "ipython3",
   "version": "3.13.5"
  }
 },
 "nbformat": 4,
 "nbformat_minor": 5
}

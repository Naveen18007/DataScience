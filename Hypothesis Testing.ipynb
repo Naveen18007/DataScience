{
 "cells": [
  {
   "cell_type": "markdown",
   "id": "84a10223-f9fa-4c5f-86f0-eab1e761c25f",
   "metadata": {},
   "source": [
    "## Background:\n",
    "    Bombay hospitality Ltd. operates a franchise model for producing exotic Norwegian dinners throughout New England. The operating cost for a   franchise in a week (W) is given by the equation W = $1,000 + $5X, where X represents the number of units produced in a week. Recent feedback from restaurant owners suggests that this cost model may no longer be accurate, as their observed weekly operating costs are higher.\n",
    "## Objective:\n",
    "    To investigate the restaurant owners' claim about the increase in weekly operating costs using hypothesis testing.\n"
   ]
  },
  {
   "cell_type": "markdown",
   "id": "7fb8716f-7aa8-422c-8860-54b04fcbdc7e",
   "metadata": {},
   "source": [
    "## Data Provided:\n",
    "    • The theoretical weekly operating cost model: W = $1,000 + $5X\n",
    "    • Sample of 25 restaurants with a mean weekly cost of Rs. 3,050\n",
    "    • Number of units produced in a week (X) follows a normal distribution with a mean (μ) of 600 units and a standard deviation (σ) of 25 units\n"
   ]
  },
  {
   "cell_type": "markdown",
   "id": "e2700a22-e5ad-42f3-9495-507a89f99b5c",
   "metadata": {},
   "source": [
    "## Assignment Tasks:\n",
    "    1. State the Hypotheses statement:\n",
    "    2. Calculate the Test Statistic:\n",
    "       Use the following formula to calculate the test statistic (t):\n",
    "       where:\n",
    "       •ˉxˉ = sample mean weekly cost (Rs. 3,050)\n",
    "       • μ = theoretical mean weekly cost according to the cost model (W = $1,000 + $5X for X = 600 units)\n",
    "       • σ = 5*25 units\n",
    "       • n = sample size (25 restaurants)\n"
   ]
  },
  {
   "cell_type": "code",
   "execution_count": null,
   "id": "5c58daf4-5281-4b65-8510-23f57d1c6e9c",
   "metadata": {},
   "outputs": [],
   "source": [
    "#H0:The observed weekly operating coost is same\n",
    "#H1:The observed weekly operating cost is higher"
   ]
  },
  {
   "cell_type": "code",
   "execution_count": 21,
   "id": "ce95f26c-5ed6-4e1f-ad65-0e1521ab5b06",
   "metadata": {},
   "outputs": [],
   "source": [
    "import numpy as np\n",
    "import scipy.stats as stats\n",
    "x_bar=3050\n",
    "pop_mean=1000 + 5*600\n",
    "std= 5 * 25\n",
    "n=25"
   ]
  },
  {
   "cell_type": "code",
   "execution_count": 22,
   "id": "71aabacf-f0d2-4da1-97aa-7c3dde7aca92",
   "metadata": {},
   "outputs": [
    {
     "name": "stdout",
     "output_type": "stream",
     "text": [
      "3050\n",
      "4000\n",
      "125\n",
      "25\n"
     ]
    }
   ],
   "source": [
    "print(x_bar)\n",
    "print(pop_mean)\n",
    "print(std)\n",
    "print(n)"
   ]
  },
  {
   "cell_type": "code",
   "execution_count": 23,
   "id": "67a52403-1b13-4b3e-b20d-cca0643d8d89",
   "metadata": {},
   "outputs": [
    {
     "data": {
      "text/plain": [
       "np.float64(-38.0)"
      ]
     },
     "execution_count": 23,
     "metadata": {},
     "output_type": "execute_result"
    }
   ],
   "source": [
    "z_stats=(x_bar-pop_mean)/(std/np.sqrt(n))\n",
    "z_stats"
   ]
  },
  {
   "cell_type": "markdown",
   "id": "cb7924d8-6302-4b82-a3c7-820d5f3bff0e",
   "metadata": {},
   "source": [
    "## 3. Determine the Critical Value:\n",
    "    Using the alpha level of 5% (α = 0.05), determine the critical value from the standard normal (Z) distribution table.\n"
   ]
  },
  {
   "cell_type": "code",
   "execution_count": 25,
   "id": "9d8538a6-6ff2-4f17-9342-f8c6d04c4835",
   "metadata": {},
   "outputs": [
    {
     "data": {
      "text/plain": [
       "np.float64(1.6448536269514722)"
      ]
     },
     "execution_count": 25,
     "metadata": {},
     "output_type": "execute_result"
    }
   ],
   "source": [
    "z_critical=stats.norm.ppf(0.95)\n",
    "z_critical"
   ]
  },
  {
   "cell_type": "markdown",
   "id": "2ca9b88a-a956-4b12-be51-7a9f5ded089a",
   "metadata": {},
   "source": [
    "## 4. Make a Decision:\n",
    "    Compare the test statistic with the critical value to decide whether to reject the null hypothesis.\n"
   ]
  },
  {
   "cell_type": "markdown",
   "id": "91f6dac1-6c11-4874-8beb-d3b95e61279c",
   "metadata": {},
   "source": [
    "From the values we observe that zstats < zcritical "
   ]
  },
  {
   "cell_type": "markdown",
   "id": "5a704f12-1e8c-4219-8619-5a1925b60324",
   "metadata": {},
   "source": [
    "## 5. Conclusion:\n",
    "    Based on the decision in step 4, conclude whether there is strong evidence to support the restaurant owners' claim that the weekly operating costs are higher than the model suggests.\n"
   ]
  },
  {
   "cell_type": "markdown",
   "id": "64c68ff1-d217-4264-8a95-e0c0b9d2c19f",
   "metadata": {},
   "source": [
    "Hence we fail to reject the null Hypothesis.\n",
    "\n",
    "The observed weekly operating cost is same"
   ]
  },
  {
   "cell_type": "markdown",
   "id": "d8f61524-0826-489d-8c93-0935d627f5b3",
   "metadata": {},
   "source": [
    "## CHI-SQUARE TEST\n",
    "    Association between Device Type and Customer Satisfaction\n",
    "## Background:\n",
    "    Mizzare Corporation has collected data on customer satisfaction levels for two types of smart home devices: Smart Thermostats and Smart Lights. They want to determine if there's a significant association between the type of device purchased and the customer's satisfaction level.\n",
    "## Data Provided:\n",
    "    The data is summarized in a contingency table showing the counts of customers in each satisfaction level for both types of devices:\n"
   ]
  },
  {
   "cell_type": "markdown",
   "id": "86997bea-52a5-4b93-8c01-4a4a5d4716f0",
   "metadata": {},
   "source": [
    "## Objective:\n",
    "    To use the Chi-Square test for independence to determine if there's a significant association between the type of smart home device purchased (Smart Thermostats vs. Smart Lights) and the customer satisfaction level.\n"
   ]
  },
  {
   "cell_type": "markdown",
   "id": "9136e293-f69b-4755-9858-b68c86d6ca24",
   "metadata": {},
   "source": [
    "## Assignment Tasks:\n",
    "#### 1. State the Hypotheses:\n"
   ]
  },
  {
   "cell_type": "markdown",
   "id": "ee71c8fc-52c0-459f-9b09-e77b8799842f",
   "metadata": {},
   "source": [
    "\"H0: There is no association between device type and customer satisfaction.\"\n",
    "\n",
    "\"H1: There is an association between device type and customer satisfaction.\""
   ]
  },
  {
   "cell_type": "markdown",
   "id": "bbfebb40-889c-4cfa-a6c2-bc2c3b3000dc",
   "metadata": {},
   "source": [
    "#### 2. Compute the Chi-Square Statistic:"
   ]
  },
  {
   "cell_type": "code",
   "execution_count": 7,
   "id": "d8184b87-dfda-43de-b919-ead2a39f9188",
   "metadata": {},
   "outputs": [],
   "source": [
    "import scipy.stats as stats\n",
    "import numpy as np"
   ]
  },
  {
   "cell_type": "code",
   "execution_count": 8,
   "id": "b1d7b27f-8b02-4d82-bcee-7be8ee7c1d31",
   "metadata": {},
   "outputs": [],
   "source": [
    "data = np.array([\n",
    "    [50, 70],   \n",
    "    [80, 100],  \n",
    "    [60, 90],   \n",
    "    [30, 50],   \n",
    "    [20, 50]    \n",
    "])"
   ]
  },
  {
   "cell_type": "code",
   "execution_count": 11,
   "id": "4b3ff023-b1cd-4484-b504-6ae4a12e3039",
   "metadata": {},
   "outputs": [],
   "source": [
    "chi2_stat, p_val, dof, expected = stats.chi2_contingency(data)"
   ]
  },
  {
   "cell_type": "code",
   "execution_count": 12,
   "id": "bcbebdc8-0ecb-4da8-ae85-33bb5ba957d5",
   "metadata": {},
   "outputs": [
    {
     "name": "stdout",
     "output_type": "stream",
     "text": [
      "[[ 48.  72.]\n",
      " [ 72. 108.]\n",
      " [ 60.  90.]\n",
      " [ 32.  48.]\n",
      " [ 28.  42.]]\n"
     ]
    }
   ],
   "source": [
    "print(expected)"
   ]
  },
  {
   "cell_type": "code",
   "execution_count": 14,
   "id": "0aa7825b-e71b-48ff-8ba1-101fd5b72647",
   "metadata": {},
   "outputs": [
    {
     "data": {
      "text/plain": [
       "4"
      ]
     },
     "execution_count": 14,
     "metadata": {},
     "output_type": "execute_result"
    }
   ],
   "source": [
    "dof"
   ]
  },
  {
   "cell_type": "code",
   "execution_count": 16,
   "id": "da78c699-2cca-44f3-b382-7d5545b0693f",
   "metadata": {},
   "outputs": [
    {
     "data": {
      "text/plain": [
       "np.float64(5.638227513227513)"
      ]
     },
     "execution_count": 16,
     "metadata": {},
     "output_type": "execute_result"
    }
   ],
   "source": [
    "chi2_stat"
   ]
  },
  {
   "cell_type": "markdown",
   "id": "c0ecb7a3-4cc0-45b2-834b-3aa4d84ab735",
   "metadata": {},
   "source": [
    "#### 3. Determine the Critical Value:\n",
    "    Using the significance level (alpha) of 0.05 and the degrees of freedom (which is the number of categories minus 1)\n"
   ]
  },
  {
   "cell_type": "code",
   "execution_count": 18,
   "id": "16f4772a-20ea-476c-908b-f12d556ed79c",
   "metadata": {},
   "outputs": [
    {
     "data": {
      "text/plain": [
       "np.float64(9.487729036781154)"
      ]
     },
     "execution_count": 18,
     "metadata": {},
     "output_type": "execute_result"
    }
   ],
   "source": [
    "chi2_critical=stats.chi2.ppf(1-0.05,dof)\n",
    "chi2_critical"
   ]
  },
  {
   "cell_type": "markdown",
   "id": "bcae9a2d-52ce-44c6-948b-b3d407ce4d04",
   "metadata": {},
   "source": [
    "### 4. Make a Decision:\n",
    "    Compare the Chi-Square statistic with the critical value to decide whether to reject the null hypothesis.\n"
   ]
  },
  {
   "cell_type": "code",
   "execution_count": 20,
   "id": "751d2f14-9b57-47df-9f5c-03b6b21cb769",
   "metadata": {},
   "outputs": [],
   "source": [
    "# Since chi2_stats < chi2_critical we fail to reject the null hypothesis\n",
    "\n",
    "# Hence there is no association between device type and customer satisfaction."
   ]
  }
 ],
 "metadata": {
  "kernelspec": {
   "display_name": "Python 3 (ipykernel)",
   "language": "python",
   "name": "python3"
  },
  "language_info": {
   "codemirror_mode": {
    "name": "ipython",
    "version": 3
   },
   "file_extension": ".py",
   "mimetype": "text/x-python",
   "name": "python",
   "nbconvert_exporter": "python",
   "pygments_lexer": "ipython3",
   "version": "3.13.5"
  }
 },
 "nbformat": 4,
 "nbformat_minor": 5
}

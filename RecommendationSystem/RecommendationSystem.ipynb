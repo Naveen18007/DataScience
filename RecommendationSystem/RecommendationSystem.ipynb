{
 "cells": [
  {
   "cell_type": "markdown",
   "id": "02f8d29d-6548-41e5-b134-e43a56596f59",
   "metadata": {},
   "source": [
    "## Data Description:\n",
    "    Unique ID of each anime.\n",
    "    Anime title.\n",
    "    Anime broadcast type, such as TV, OVA, etc.\n",
    "    anime genre.\n",
    "    The number of episodes of each anime.\n",
    "    The average rating for each anime compared to the number of users who gave ratings.\n",
    "    Number of community members for each anime.\n",
    "## Objective:\n",
    "    The objective of this assignment is to implement a recommendation system using cosine similarity on an anime dataset. \n",
    "## Dataset:\n",
    "    Use the Anime Dataset which contains information about various anime, including their titles, genres,No.of episodes and user ratings etc."
   ]
  },
  {
   "cell_type": "code",
   "execution_count": 1,
   "id": "fbbce36d-7b67-4ea3-965f-47f1ee2cbd12",
   "metadata": {},
   "outputs": [],
   "source": [
    "import numpy as np \n",
    "import pandas as pd\n",
    "import matplotlib.pyplot as plt\n",
    "import seaborn as sns"
   ]
  },
  {
   "cell_type": "markdown",
   "id": "002f5b1d-6e4d-4e77-9e8d-e2978fa1b108",
   "metadata": {},
   "source": [
    "## Tasks:\n",
    "## Data Preprocessing:\n",
    "    Load the dataset into a suitable data structure (e.g., pandas DataFrame).\n",
    "    Handle missing values, if any.\n",
    "    Explore the dataset to understand its structure and attributes."
   ]
  },
  {
   "cell_type": "code",
   "execution_count": 2,
   "id": "72bd052b-1ab8-46a7-bf92-c408188471bd",
   "metadata": {},
   "outputs": [],
   "source": [
    "df=pd.read_csv('anime.csv')"
   ]
  },
  {
   "cell_type": "code",
   "execution_count": 3,
   "id": "c52e7a44-2237-45d8-bd5a-5ab59b61b6b9",
   "metadata": {},
   "outputs": [
    {
     "data": {
      "text/html": [
       "<div>\n",
       "<style scoped>\n",
       "    .dataframe tbody tr th:only-of-type {\n",
       "        vertical-align: middle;\n",
       "    }\n",
       "\n",
       "    .dataframe tbody tr th {\n",
       "        vertical-align: top;\n",
       "    }\n",
       "\n",
       "    .dataframe thead th {\n",
       "        text-align: right;\n",
       "    }\n",
       "</style>\n",
       "<table border=\"1\" class=\"dataframe\">\n",
       "  <thead>\n",
       "    <tr style=\"text-align: right;\">\n",
       "      <th></th>\n",
       "      <th>anime_id</th>\n",
       "      <th>name</th>\n",
       "      <th>genre</th>\n",
       "      <th>type</th>\n",
       "      <th>episodes</th>\n",
       "      <th>rating</th>\n",
       "      <th>members</th>\n",
       "    </tr>\n",
       "  </thead>\n",
       "  <tbody>\n",
       "    <tr>\n",
       "      <th>0</th>\n",
       "      <td>32281</td>\n",
       "      <td>Kimi no Na wa.</td>\n",
       "      <td>Drama, Romance, School, Supernatural</td>\n",
       "      <td>Movie</td>\n",
       "      <td>1</td>\n",
       "      <td>9.37</td>\n",
       "      <td>200630</td>\n",
       "    </tr>\n",
       "    <tr>\n",
       "      <th>1</th>\n",
       "      <td>5114</td>\n",
       "      <td>Fullmetal Alchemist: Brotherhood</td>\n",
       "      <td>Action, Adventure, Drama, Fantasy, Magic, Mili...</td>\n",
       "      <td>TV</td>\n",
       "      <td>64</td>\n",
       "      <td>9.26</td>\n",
       "      <td>793665</td>\n",
       "    </tr>\n",
       "    <tr>\n",
       "      <th>2</th>\n",
       "      <td>28977</td>\n",
       "      <td>Gintama°</td>\n",
       "      <td>Action, Comedy, Historical, Parody, Samurai, S...</td>\n",
       "      <td>TV</td>\n",
       "      <td>51</td>\n",
       "      <td>9.25</td>\n",
       "      <td>114262</td>\n",
       "    </tr>\n",
       "    <tr>\n",
       "      <th>3</th>\n",
       "      <td>9253</td>\n",
       "      <td>Steins;Gate</td>\n",
       "      <td>Sci-Fi, Thriller</td>\n",
       "      <td>TV</td>\n",
       "      <td>24</td>\n",
       "      <td>9.17</td>\n",
       "      <td>673572</td>\n",
       "    </tr>\n",
       "    <tr>\n",
       "      <th>4</th>\n",
       "      <td>9969</td>\n",
       "      <td>Gintama&amp;#039;</td>\n",
       "      <td>Action, Comedy, Historical, Parody, Samurai, S...</td>\n",
       "      <td>TV</td>\n",
       "      <td>51</td>\n",
       "      <td>9.16</td>\n",
       "      <td>151266</td>\n",
       "    </tr>\n",
       "  </tbody>\n",
       "</table>\n",
       "</div>"
      ],
      "text/plain": [
       "   anime_id                              name  \\\n",
       "0     32281                    Kimi no Na wa.   \n",
       "1      5114  Fullmetal Alchemist: Brotherhood   \n",
       "2     28977                          Gintama°   \n",
       "3      9253                       Steins;Gate   \n",
       "4      9969                     Gintama&#039;   \n",
       "\n",
       "                                               genre   type episodes  rating  \\\n",
       "0               Drama, Romance, School, Supernatural  Movie        1    9.37   \n",
       "1  Action, Adventure, Drama, Fantasy, Magic, Mili...     TV       64    9.26   \n",
       "2  Action, Comedy, Historical, Parody, Samurai, S...     TV       51    9.25   \n",
       "3                                   Sci-Fi, Thriller     TV       24    9.17   \n",
       "4  Action, Comedy, Historical, Parody, Samurai, S...     TV       51    9.16   \n",
       "\n",
       "   members  \n",
       "0   200630  \n",
       "1   793665  \n",
       "2   114262  \n",
       "3   673572  \n",
       "4   151266  "
      ]
     },
     "execution_count": 3,
     "metadata": {},
     "output_type": "execute_result"
    }
   ],
   "source": [
    "df.head()"
   ]
  },
  {
   "cell_type": "code",
   "execution_count": 4,
   "id": "46bf4fbf-127a-4b47-a874-45d960f383cf",
   "metadata": {},
   "outputs": [
    {
     "data": {
      "text/plain": [
       "anime_id      0\n",
       "name          0\n",
       "genre        62\n",
       "type         25\n",
       "episodes      0\n",
       "rating      230\n",
       "members       0\n",
       "dtype: int64"
      ]
     },
     "execution_count": 4,
     "metadata": {},
     "output_type": "execute_result"
    }
   ],
   "source": [
    "df.isnull().sum()"
   ]
  },
  {
   "cell_type": "code",
   "execution_count": 5,
   "id": "4d322744-e784-4257-87cf-698f892f1a02",
   "metadata": {},
   "outputs": [],
   "source": [
    "df.fillna({'rating':df['rating'].mean(),'type':df['type'].mode()[0]},inplace=True)"
   ]
  },
  {
   "cell_type": "code",
   "execution_count": 6,
   "id": "0ef47e77-5c3f-4d71-98f2-7d87f3b3fdad",
   "metadata": {},
   "outputs": [
    {
     "data": {
      "text/plain": [
       "anime_id     0\n",
       "name         0\n",
       "genre       62\n",
       "type         0\n",
       "episodes     0\n",
       "rating       0\n",
       "members      0\n",
       "dtype: int64"
      ]
     },
     "execution_count": 6,
     "metadata": {},
     "output_type": "execute_result"
    }
   ],
   "source": [
    "df.isnull().sum()"
   ]
  },
  {
   "cell_type": "code",
   "execution_count": 7,
   "id": "015e7017-ca05-49a6-a1ee-7048f102ec8d",
   "metadata": {},
   "outputs": [
    {
     "data": {
      "text/html": [
       "<div>\n",
       "<style scoped>\n",
       "    .dataframe tbody tr th:only-of-type {\n",
       "        vertical-align: middle;\n",
       "    }\n",
       "\n",
       "    .dataframe tbody tr th {\n",
       "        vertical-align: top;\n",
       "    }\n",
       "\n",
       "    .dataframe thead th {\n",
       "        text-align: right;\n",
       "    }\n",
       "</style>\n",
       "<table border=\"1\" class=\"dataframe\">\n",
       "  <thead>\n",
       "    <tr style=\"text-align: right;\">\n",
       "      <th></th>\n",
       "      <th>anime_id</th>\n",
       "      <th>name</th>\n",
       "      <th>genre</th>\n",
       "      <th>type</th>\n",
       "      <th>episodes</th>\n",
       "      <th>rating</th>\n",
       "      <th>members</th>\n",
       "    </tr>\n",
       "  </thead>\n",
       "  <tbody>\n",
       "    <tr>\n",
       "      <th>0</th>\n",
       "      <td>32281</td>\n",
       "      <td>Kimi no Na wa.</td>\n",
       "      <td>Drama, Romance, School, Supernatural</td>\n",
       "      <td>Movie</td>\n",
       "      <td>1</td>\n",
       "      <td>2.847535</td>\n",
       "      <td>200630</td>\n",
       "    </tr>\n",
       "    <tr>\n",
       "      <th>1</th>\n",
       "      <td>5114</td>\n",
       "      <td>Fullmetal Alchemist: Brotherhood</td>\n",
       "      <td>Action, Adventure, Drama, Fantasy, Magic, Mili...</td>\n",
       "      <td>TV</td>\n",
       "      <td>64</td>\n",
       "      <td>2.739380</td>\n",
       "      <td>793665</td>\n",
       "    </tr>\n",
       "    <tr>\n",
       "      <th>2</th>\n",
       "      <td>28977</td>\n",
       "      <td>Gintama°</td>\n",
       "      <td>Action, Comedy, Historical, Parody, Samurai, S...</td>\n",
       "      <td>TV</td>\n",
       "      <td>51</td>\n",
       "      <td>2.729547</td>\n",
       "      <td>114262</td>\n",
       "    </tr>\n",
       "    <tr>\n",
       "      <th>3</th>\n",
       "      <td>9253</td>\n",
       "      <td>Steins;Gate</td>\n",
       "      <td>Sci-Fi, Thriller</td>\n",
       "      <td>TV</td>\n",
       "      <td>24</td>\n",
       "      <td>2.650889</td>\n",
       "      <td>673572</td>\n",
       "    </tr>\n",
       "    <tr>\n",
       "      <th>4</th>\n",
       "      <td>9969</td>\n",
       "      <td>Gintama&amp;#039;</td>\n",
       "      <td>Action, Comedy, Historical, Parody, Samurai, S...</td>\n",
       "      <td>TV</td>\n",
       "      <td>51</td>\n",
       "      <td>2.641057</td>\n",
       "      <td>151266</td>\n",
       "    </tr>\n",
       "  </tbody>\n",
       "</table>\n",
       "</div>"
      ],
      "text/plain": [
       "   anime_id                              name  \\\n",
       "0     32281                    Kimi no Na wa.   \n",
       "1      5114  Fullmetal Alchemist: Brotherhood   \n",
       "2     28977                          Gintama°   \n",
       "3      9253                       Steins;Gate   \n",
       "4      9969                     Gintama&#039;   \n",
       "\n",
       "                                               genre   type episodes  \\\n",
       "0               Drama, Romance, School, Supernatural  Movie        1   \n",
       "1  Action, Adventure, Drama, Fantasy, Magic, Mili...     TV       64   \n",
       "2  Action, Comedy, Historical, Parody, Samurai, S...     TV       51   \n",
       "3                                   Sci-Fi, Thriller     TV       24   \n",
       "4  Action, Comedy, Historical, Parody, Samurai, S...     TV       51   \n",
       "\n",
       "     rating  members  \n",
       "0  2.847535   200630  \n",
       "1  2.739380   793665  \n",
       "2  2.729547   114262  \n",
       "3  2.650889   673572  \n",
       "4  2.641057   151266  "
      ]
     },
     "execution_count": 7,
     "metadata": {},
     "output_type": "execute_result"
    }
   ],
   "source": [
    "from sklearn.preprocessing import StandardScaler\n",
    "std=StandardScaler()\n",
    "df[['rating']]=std.fit_transform(df[['rating']])\n",
    "df.head()"
   ]
  },
  {
   "cell_type": "markdown",
   "id": "deb1e159-89a3-489f-a0dc-8ce1b9b47cd7",
   "metadata": {},
   "source": [
    "## Feature Extraction:\n",
    "    Decide on the features that will be used for computing similarity (e.g., genres, user ratings).\n",
    "    Convert categorical features into numerical representations if necessary.\n",
    "    Normalize numerical features if required."
   ]
  },
  {
   "cell_type": "code",
   "execution_count": 8,
   "id": "f9c85f8a-0888-4965-8c46-e314154fca7c",
   "metadata": {},
   "outputs": [
    {
     "data": {
      "text/plain": [
       "(12292, 6)"
      ]
     },
     "execution_count": 8,
     "metadata": {},
     "output_type": "execute_result"
    }
   ],
   "source": [
    "df1=df.pivot_table(index='name',columns='type',values='rating')\n",
    "df1.fillna(0,axis=1,inplace=True)\n",
    "df1.head()\n",
    "df1.shape"
   ]
  },
  {
   "cell_type": "code",
   "execution_count": 9,
   "id": "d71285e1-c650-4d4d-be1c-53a68997adf8",
   "metadata": {},
   "outputs": [],
   "source": [
    "from sklearn.metrics.pairwise import cosine_similarity,euclidean_distances"
   ]
  },
  {
   "cell_type": "code",
   "execution_count": 10,
   "id": "3ba29376-7a98-4893-9420-97aad278a503",
   "metadata": {},
   "outputs": [],
   "source": [
    "cos_sim=cosine_similarity(df1)"
   ]
  },
  {
   "cell_type": "code",
   "execution_count": 11,
   "id": "aec0ce00-e1d5-4284-8129-b4e37834499b",
   "metadata": {},
   "outputs": [
    {
     "data": {
      "text/plain": [
       "(12292, 12292)"
      ]
     },
     "execution_count": 11,
     "metadata": {},
     "output_type": "execute_result"
    }
   ],
   "source": [
    "cos_sim.shape"
   ]
  },
  {
   "cell_type": "code",
   "execution_count": 12,
   "id": "4a82fea4-0625-47b0-9e0f-e41f3e47aaec",
   "metadata": {},
   "outputs": [
    {
     "data": {
      "text/html": [
       "<div>\n",
       "<style scoped>\n",
       "    .dataframe tbody tr th:only-of-type {\n",
       "        vertical-align: middle;\n",
       "    }\n",
       "\n",
       "    .dataframe tbody tr th {\n",
       "        vertical-align: top;\n",
       "    }\n",
       "\n",
       "    .dataframe thead th {\n",
       "        text-align: right;\n",
       "    }\n",
       "</style>\n",
       "<table border=\"1\" class=\"dataframe\">\n",
       "  <thead>\n",
       "    <tr style=\"text-align: right;\">\n",
       "      <th></th>\n",
       "      <th>0</th>\n",
       "    </tr>\n",
       "  </thead>\n",
       "  <tbody>\n",
       "    <tr>\n",
       "      <th>0</th>\n",
       "      <td>0.0</td>\n",
       "    </tr>\n",
       "    <tr>\n",
       "      <th>1</th>\n",
       "      <td>0.0</td>\n",
       "    </tr>\n",
       "    <tr>\n",
       "      <th>2</th>\n",
       "      <td>1.0</td>\n",
       "    </tr>\n",
       "    <tr>\n",
       "      <th>3</th>\n",
       "      <td>1.0</td>\n",
       "    </tr>\n",
       "    <tr>\n",
       "      <th>4</th>\n",
       "      <td>0.0</td>\n",
       "    </tr>\n",
       "    <tr>\n",
       "      <th>...</th>\n",
       "      <td>...</td>\n",
       "    </tr>\n",
       "    <tr>\n",
       "      <th>12287</th>\n",
       "      <td>1.0</td>\n",
       "    </tr>\n",
       "    <tr>\n",
       "      <th>12288</th>\n",
       "      <td>1.0</td>\n",
       "    </tr>\n",
       "    <tr>\n",
       "      <th>12289</th>\n",
       "      <td>0.0</td>\n",
       "    </tr>\n",
       "    <tr>\n",
       "      <th>12290</th>\n",
       "      <td>0.0</td>\n",
       "    </tr>\n",
       "    <tr>\n",
       "      <th>12291</th>\n",
       "      <td>0.0</td>\n",
       "    </tr>\n",
       "  </tbody>\n",
       "</table>\n",
       "<p>12292 rows × 1 columns</p>\n",
       "</div>"
      ],
      "text/plain": [
       "         0\n",
       "0      0.0\n",
       "1      0.0\n",
       "2      1.0\n",
       "3      1.0\n",
       "4      0.0\n",
       "...    ...\n",
       "12287  1.0\n",
       "12288  1.0\n",
       "12289  0.0\n",
       "12290  0.0\n",
       "12291  0.0\n",
       "\n",
       "[12292 rows x 1 columns]"
      ]
     },
     "execution_count": 12,
     "metadata": {},
     "output_type": "execute_result"
    }
   ],
   "source": [
    "pd.DataFrame(cos_sim[3])"
   ]
  },
  {
   "cell_type": "code",
   "execution_count": 13,
   "id": "919f90e7-9d72-41c8-b773-fd22f1bd8554",
   "metadata": {},
   "outputs": [
    {
     "data": {
      "text/plain": [
       "Index(['&quot;0&quot;',\n",
       "       '&quot;Aesop&quot; no Ohanashi yori: Ushi to Kaeru, Yokubatta Inu',\n",
       "       '&quot;Bungaku Shoujo&quot; Kyou no Oyatsu: Hatsukoi',\n",
       "       '&quot;Bungaku Shoujo&quot; Memoire',\n",
       "       '&quot;Bungaku Shoujo&quot; Movie', '&quot;Eiji&quot;',\n",
       "       '&quot;Eiyuu&quot; Kaitai', '.hack//G.U. Returner',\n",
       "       '.hack//G.U. Trilogy', '.hack//G.U. Trilogy: Parody Mode',\n",
       "       ...\n",
       "       's.CRY.ed', 'vivi', 'xxxHOLiC', 'xxxHOLiC Kei',\n",
       "       'xxxHOLiC Movie: Manatsu no Yoru no Yume', 'xxxHOLiC Rou',\n",
       "       'xxxHOLiC Shunmuki', 'Üks Uks', 'ēlDLIVE', '◯'],\n",
       "      dtype='object', name='name', length=12292)"
      ]
     },
     "execution_count": 13,
     "metadata": {},
     "output_type": "execute_result"
    }
   ],
   "source": [
    "df1.index"
   ]
  },
  {
   "cell_type": "markdown",
   "id": "5f4b5975-6e4e-4398-9f44-3054c9c5b490",
   "metadata": {},
   "source": [
    "## Recommendation System:\n",
    "    Design a function to recommend anime based on cosine similarity.\n",
    "    Given a target anime, recommend a list of similar anime based on cosine similarity scores.\n",
    "    Experiment with different threshold values for similarity scores to adjust the recommendation list size."
   ]
  },
  {
   "cell_type": "code",
   "execution_count": 14,
   "id": "73e15a3a-52e4-4800-9051-7d2085962560",
   "metadata": {},
   "outputs": [],
   "source": [
    "def recommended_movie(similar_movie,threshold=1):\n",
    "    if similar_movie in df1.index:\n",
    "        index= np.where(similar_movie==df1.index)[0][0]\n",
    "        similar=list(enumerate(cos_sim[index]))\n",
    "        filtered_similar = [\n",
    "            (i, score) for i, score in similar\n",
    "            if score >= threshold and i != index\n",
    "        ]\n",
    "        filtered_similar = sorted(filtered_similar, reverse=True, key=lambda x: x[1])[1:6]\n",
    "        print('Recommended movie of ',similar_movie)\n",
    "        print('*'*30)\n",
    "        for i in filtered_similar:\n",
    "            print(df1.index[i[0]])\n",
    "    else:\n",
    "        print('Movie is not in the list')"
   ]
  },
  {
   "cell_type": "code",
   "execution_count": 15,
   "id": "3d9eb3e4-f4a6-45cc-ad7d-1873fdfadd17",
   "metadata": {},
   "outputs": [
    {
     "name": "stdout",
     "output_type": "stream",
     "text": [
      "Recommended movie of  Kimi no Na wa.\n",
      "******************************\n",
      ".hack//G.U. Trilogy\n",
      ".hack//The Movie: Sekai no Mukou ni\n",
      "009 Re:Cyborg\n",
      "1000-nen Joou: Queen Millennia\n",
      "11-nin Iru!\n"
     ]
    }
   ],
   "source": [
    "recommended_movie('Kimi no Na wa.')"
   ]
  },
  {
   "cell_type": "code",
   "execution_count": 16,
   "id": "8e3ecc1a-ec17-4313-8888-7798527a8110",
   "metadata": {},
   "outputs": [],
   "source": [
    "def recommended_movie(similar_movie,threshold=0.8):\n",
    "    if similar_movie in df1.index:\n",
    "        index= np.where(similar_movie==df1.index)[0][0]\n",
    "        similar=list(enumerate(cos_sim[index]))\n",
    "        filtered_similar = [\n",
    "            (i, score) for i, score in similar\n",
    "            if score >= threshold and i != index\n",
    "        ]\n",
    "        filtered_similar = sorted(filtered_similar, reverse=True, key=lambda x: x[1])[1:8]\n",
    "        print('Recommended movie of ',similar_movie)\n",
    "        print('*'*30)\n",
    "        for i in filtered_similar:\n",
    "            print(df1.index[i[0]])\n",
    "    else:\n",
    "        print('Movie is not in the list')"
   ]
  },
  {
   "cell_type": "code",
   "execution_count": 17,
   "id": "e33535dd-fba9-4b94-81b8-df7b44a0a52a",
   "metadata": {},
   "outputs": [
    {
     "name": "stdout",
     "output_type": "stream",
     "text": [
      "Recommended movie of  Kimi no Na wa.\n",
      "******************************\n",
      ".hack//G.U. Trilogy\n",
      ".hack//The Movie: Sekai no Mukou ni\n",
      "009 Re:Cyborg\n",
      "1000-nen Joou: Queen Millennia\n",
      "11-nin Iru!\n",
      "8-gatsu no Symphony: Shibuya 2002-2003\n",
      "Aa! Megami-sama! Movie\n"
     ]
    }
   ],
   "source": [
    "recommended_movie('Kimi no Na wa.')"
   ]
  },
  {
   "cell_type": "markdown",
   "id": "9776a505-da0a-4d72-b4ec-9d4a82d3efec",
   "metadata": {},
   "source": [
    "## Interview Questions:\n",
    "    1. Can you explain the difference between user-based and item-based collaborative filtering?\n",
    "    \n",
    "           Finds users similar to the target user based on past behavior, and recommends items liked by those similar users.\n",
    "\n",
    "           Finds items similar to the ones the target user has already interacted with, and recommends similar items.\n",
    "           \n",
    "    2. What is collaborative filtering, and how does it work?\n",
    "\n",
    "           Collaborative Filtering is a  recommendation technique that uses past user-item interactions to predict future user preferences.It works based on two parameters either cosine similarity or Eucledian Distance\n",
    "           "
   ]
  },
  {
   "cell_type": "code",
   "execution_count": null,
   "id": "34fde48e-0af3-4089-a8fe-76704b3fad38",
   "metadata": {},
   "outputs": [],
   "source": []
  }
 ],
 "metadata": {
  "kernelspec": {
   "display_name": "Python 3 (ipykernel)",
   "language": "python",
   "name": "python3"
  },
  "language_info": {
   "codemirror_mode": {
    "name": "ipython",
    "version": 3
   },
   "file_extension": ".py",
   "mimetype": "text/x-python",
   "name": "python",
   "nbconvert_exporter": "python",
   "pygments_lexer": "ipython3",
   "version": "3.13.5"
  }
 },
 "nbformat": 4,
 "nbformat_minor": 5
}

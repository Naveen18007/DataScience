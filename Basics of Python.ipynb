{
 "cells": [
  {
   "cell_type": "markdown",
   "id": "87c31a5d-8193-489a-ba46-81264f4645c6",
   "metadata": {},
   "source": [
    "## Exercise 1: Prime Numbers\n",
    "\n",
    "Write a Python program that checks whether a given number is prime or not. A prime number is a natural number greater than 1 that has no positive divisors other than 1 and itself.\n"
   ]
  },
  {
   "cell_type": "code",
   "execution_count": 4,
   "id": "202b4120-cd95-4092-bce0-d024f76b9cd1",
   "metadata": {},
   "outputs": [
    {
     "name": "stdin",
     "output_type": "stream",
     "text": [
      "Enter a Number 20\n"
     ]
    },
    {
     "name": "stdout",
     "output_type": "stream",
     "text": [
      "The Given Number is not a Prime Number\n"
     ]
    }
   ],
   "source": [
    "a=int(input(\"Enter a Number:\"))\n",
    "flag=0\n",
    "for i in range(2,(a//2)+1):\n",
    "    if a%i==0:\n",
    "        flag=1\n",
    "        break\n",
    "if flag==0:\n",
    "    print(\"The Given Number is a Prime Number\")\n",
    "else: \n",
    "    print(\"The Given Number is not a Prime Number\")"
   ]
  },
  {
   "cell_type": "markdown",
   "id": "236d2aab-7f19-489e-af5a-be6d0063a6f5",
   "metadata": {},
   "source": [
    "## Exercise 2: Product of Random Numbers\n",
    "\n",
    "Develop a Python program that generates two random numbers and asks the user to enter the product of these numbers. The program should then check if the user's answer is correct and display an appropriate message.\n"
   ]
  },
  {
   "cell_type": "code",
   "execution_count": 35,
   "id": "e1dce1c8-c941-470b-b80c-2488b28da6b2",
   "metadata": {},
   "outputs": [
    {
     "name": "stdin",
     "output_type": "stream",
     "text": [
      "Enter the product of two numbers: 20\n"
     ]
    },
    {
     "name": "stdout",
     "output_type": "stream",
     "text": [
      "You have entered the wrong product\n"
     ]
    }
   ],
   "source": [
    "import random\n",
    "x=random.randint(1,10)\n",
    "y=random.randint(1,10)\n",
    "z=int(input(\"Enter the product of two numbers:\"))\n",
    "if z == x*y:\n",
    "    print(\"You have entered the correct product\")\n",
    "else:\n",
    "    print(\"You have entered the wrong product\")"
   ]
  },
  {
   "cell_type": "markdown",
   "id": "274bd580-7650-4bdc-be17-b158ca0175bd",
   "metadata": {},
   "source": [
    "## Exercise 3: Squares of Even/Odd Numbers\n",
    "Create a Python script that prints the squares of all even or odd numbers within the range of 100 to 200. Choose either even or odd numbers and document your choice in the code.\n"
   ]
  },
  {
   "cell_type": "code",
   "execution_count": 25,
   "id": "82797b81-6bfa-4dc7-8f3f-6ff83c7e7976",
   "metadata": {},
   "outputs": [
    {
     "name": "stdin",
     "output_type": "stream",
     "text": [
      "Enter odd or even even\n"
     ]
    },
    {
     "name": "stdout",
     "output_type": "stream",
     "text": [
      "10000 10201 10404 10609 10816 11025 11236 11449 11664 11881 12100 12321 12544 12769 12996 13225 13456 13689 13924 14161 14400 14641 14884 15129 15376 15625 15876 16129 16384 16641 16900 17161 17424 17689 17956 18225 18496 18769 19044 19321 19600 19881 20164 20449 20736 21025 21316 21609 21904 22201 22500 22801 23104 23409 23716 24025 24336 24649 24964 25281 25600 25921 26244 26569 26896 27225 27556 27889 28224 28561 28900 29241 29584 29929 30276 30625 30976 31329 31684 32041 32400 32761 33124 33489 33856 34225 34596 34969 35344 35721 36100 36481 36864 37249 37636 38025 38416 38809 39204 39601 40000 "
     ]
    }
   ],
   "source": [
    "m=input(\"Enter odd or even:\")\n",
    "n=m.lower()\n",
    "for i in range(100,201):\n",
    "    if n==\"odd\":\n",
    "        if i%2!=0:\n",
    "            print(i**2,end=' ');\n",
    "    else:\n",
    "        print(i**2 , end=' ')"
   ]
  },
  {
   "cell_type": "markdown",
   "id": "f7829f2b-50dc-4d43-8299-fc42834ec315",
   "metadata": {},
   "source": [
    "## Exercise 4: Word counter\n",
    "write a program to count the number of words in a given text.\n",
    "example:\n",
    "input_text = \"This is a sample text. This text will be used to demonstrate the word counter.\"\n",
    "Expected output:\n",
    "'This': 2 \n",
    "'is': 1\n",
    "'a': 1\n",
    "'sample': 1\n",
    "'text.': 1"
   ]
  },
  {
   "cell_type": "code",
   "execution_count": 41,
   "id": "af958787-ab60-43b6-925e-ad9f7ee0246a",
   "metadata": {},
   "outputs": [
    {
     "name": "stdin",
     "output_type": "stream",
     "text": [
      "Enter a string: This is a sample text. This text will be used to demonstrate the word counter\n"
     ]
    },
    {
     "name": "stdout",
     "output_type": "stream",
     "text": [
      "This:2\n",
      "is:1\n",
      "a:1\n",
      "sample:1\n",
      "text.:1\n",
      "This:2\n",
      "text:1\n",
      "will:1\n",
      "be:1\n",
      "used:1\n",
      "to:1\n",
      "demonstrate:1\n",
      "the:1\n",
      "word:1\n",
      "counter:1\n"
     ]
    }
   ],
   "source": [
    "l=input(\"Enter a string:\").split(\" \")\n",
    "for i in l:\n",
    "    print(f\"{i}:{l.count(i)}\")"
   ]
  },
  {
   "cell_type": "markdown",
   "id": "d97850d3-8c3e-4e01-9de6-660a9e9b4b77",
   "metadata": {},
   "source": [
    "## Exercise 5: Check for Palindrome\n",
    "Write a Python function called is_palindrome that takes a string as input and returns True if the string is a palindrome, and False otherwise. A palindrome is a word, phrase, number, or other sequence of characters that reads the same forward and backward, ignoring spaces, punctuation, and capitalization.\n",
    "Example:\n",
    "Input: \"racecar\"\n",
    "Expected Output: True\n"
   ]
  },
  {
   "cell_type": "code",
   "execution_count": 33,
   "id": "3b4e0f7b-9e93-4663-b04f-1b89ad8eeed8",
   "metadata": {},
   "outputs": [
    {
     "name": "stdin",
     "output_type": "stream",
     "text": [
      "Enter a string: Mom\n"
     ]
    },
    {
     "name": "stdout",
     "output_type": "stream",
     "text": [
      "The given string is a palindrome\n"
     ]
    }
   ],
   "source": [
    "def palindrome(q):\n",
    "    if q == q[::-1]:\n",
    "        return True\n",
    "    else:\n",
    "        return False\n",
    "q=input(\"Enter a string:\")\n",
    "r=palindrome(q.lower())\n",
    "if r:\n",
    "    print(\"The given string is a palindrome\")\n",
    "else:\n",
    "    print(\"The given string is not a palindrome\")"
   ]
  }
 ],
 "metadata": {
  "kernelspec": {
   "display_name": "Python 3 (ipykernel)",
   "language": "python",
   "name": "python3"
  },
  "language_info": {
   "codemirror_mode": {
    "name": "ipython",
    "version": 3
   },
   "file_extension": ".py",
   "mimetype": "text/x-python",
   "name": "python",
   "nbconvert_exporter": "python",
   "pygments_lexer": "ipython3",
   "version": "3.13.5"
  }
 },
 "nbformat": 4,
 "nbformat_minor": 5
}

{
 "cells": [
  {
   "cell_type": "markdown",
   "id": "ba0bee72-e874-48d4-8809-5511e2507a3d",
   "metadata": {},
   "source": [
    "## Overview\n",
    "    In this assignment, you will work on the \"blogs_categories.csv\" dataset, which contains blog posts categorized into various themes. Your task will be to build a text classification model using the Naive Bayes algorithm to categorize the blog posts accurately. Furthermore, you will perform sentiment analysis to understand the general sentiment (positive, negative, neutral) expressed in these posts. This assignment will enhance your understanding of text classification, sentiment analysis, and the practical application of the Naive Bayes algorithm in Natural Language Processing (NLP).\n",
    "## Dataset\n",
    "    The provided dataset, \"blogs_categories.csv\", consists of blog posts along with their associated categories. Each row represents a blog post with the following columns:\n",
    "     •\tText: The content of the blog post. Column name: Data\n",
    "     •\tCategory: The category to which the blog post belongs. Column name: Labels\n"
   ]
  },
  {
   "cell_type": "markdown",
   "id": "b4a20f70-35a3-4440-9492-94a84f4f50d3",
   "metadata": {},
   "source": [
    "## Tasks\n",
    "      1. Data Exploration and Preprocessing\n",
    "          •\tLoad the \"blogs_categories.csv\" dataset and perform an exploratory data analysis to understand its structure and content.\n",
    "          •\tPreprocess the data by cleaning the text (removing punctuation, converting to lowercase, etc.), tokenizing, and removing stopwords.\n",
    "          •\tPerform feature extraction to convert text data into a format that can be used by the Naive Bayes model, using techniques such as TF-IDF.\n"
   ]
  },
  {
   "cell_type": "code",
   "execution_count": 1,
   "id": "d7c8f8f9-e0aa-4986-8f15-784584c85446",
   "metadata": {},
   "outputs": [
    {
     "name": "stdout",
     "output_type": "stream",
     "text": [
      "Requirement already satisfied: spacy in d:\\anaconda3\\lib\\site-packages (3.8.7)\n",
      "Requirement already satisfied: spacy-legacy<3.1.0,>=3.0.11 in d:\\anaconda3\\lib\\site-packages (from spacy) (3.0.12)\n",
      "Requirement already satisfied: spacy-loggers<2.0.0,>=1.0.0 in d:\\anaconda3\\lib\\site-packages (from spacy) (1.0.5)\n",
      "Requirement already satisfied: murmurhash<1.1.0,>=0.28.0 in d:\\anaconda3\\lib\\site-packages (from spacy) (1.0.13)\n",
      "Requirement already satisfied: cymem<2.1.0,>=2.0.2 in d:\\anaconda3\\lib\\site-packages (from spacy) (2.0.11)\n",
      "Requirement already satisfied: preshed<3.1.0,>=3.0.2 in d:\\anaconda3\\lib\\site-packages (from spacy) (3.0.10)\n",
      "Requirement already satisfied: thinc<8.4.0,>=8.3.4 in d:\\anaconda3\\lib\\site-packages (from spacy) (8.3.6)\n",
      "Requirement already satisfied: wasabi<1.2.0,>=0.9.1 in d:\\anaconda3\\lib\\site-packages (from spacy) (1.1.3)\n",
      "Requirement already satisfied: srsly<3.0.0,>=2.4.3 in d:\\anaconda3\\lib\\site-packages (from spacy) (2.5.1)\n",
      "Requirement already satisfied: catalogue<2.1.0,>=2.0.6 in d:\\anaconda3\\lib\\site-packages (from spacy) (2.0.10)\n",
      "Requirement already satisfied: weasel<0.5.0,>=0.1.0 in d:\\anaconda3\\lib\\site-packages (from spacy) (0.4.1)\n",
      "Requirement already satisfied: typer<1.0.0,>=0.3.0 in d:\\anaconda3\\lib\\site-packages (from spacy) (0.9.0)\n",
      "Requirement already satisfied: tqdm<5.0.0,>=4.38.0 in d:\\anaconda3\\lib\\site-packages (from spacy) (4.67.1)\n",
      "Requirement already satisfied: numpy>=1.19.0 in c:\\users\\navee\\appdata\\roaming\\python\\python313\\site-packages (from spacy) (2.2.2)\n",
      "Requirement already satisfied: requests<3.0.0,>=2.13.0 in c:\\users\\navee\\appdata\\roaming\\python\\python313\\site-packages (from spacy) (2.32.3)\n",
      "Requirement already satisfied: pydantic!=1.8,!=1.8.1,<3.0.0,>=1.7.4 in d:\\anaconda3\\lib\\site-packages (from spacy) (2.10.3)\n",
      "Requirement already satisfied: jinja2 in c:\\users\\navee\\appdata\\roaming\\python\\python313\\site-packages (from spacy) (3.1.5)\n",
      "Requirement already satisfied: setuptools in d:\\anaconda3\\lib\\site-packages (from spacy) (72.1.0)\n",
      "Requirement already satisfied: packaging>=20.0 in c:\\users\\navee\\appdata\\roaming\\python\\python313\\site-packages (from spacy) (24.2)\n",
      "Requirement already satisfied: langcodes<4.0.0,>=3.2.0 in d:\\anaconda3\\lib\\site-packages (from spacy) (3.5.0)\n",
      "Requirement already satisfied: language-data>=1.2 in d:\\anaconda3\\lib\\site-packages (from langcodes<4.0.0,>=3.2.0->spacy) (1.3.0)\n",
      "Requirement already satisfied: annotated-types>=0.6.0 in d:\\anaconda3\\lib\\site-packages (from pydantic!=1.8,!=1.8.1,<3.0.0,>=1.7.4->spacy) (0.6.0)\n",
      "Requirement already satisfied: pydantic-core==2.27.1 in d:\\anaconda3\\lib\\site-packages (from pydantic!=1.8,!=1.8.1,<3.0.0,>=1.7.4->spacy) (2.27.1)\n",
      "Requirement already satisfied: typing-extensions>=4.12.2 in c:\\users\\navee\\appdata\\roaming\\python\\python313\\site-packages (from pydantic!=1.8,!=1.8.1,<3.0.0,>=1.7.4->spacy) (4.12.2)\n",
      "Requirement already satisfied: charset-normalizer<4,>=2 in c:\\users\\navee\\appdata\\roaming\\python\\python313\\site-packages (from requests<3.0.0,>=2.13.0->spacy) (3.4.1)\n",
      "Requirement already satisfied: idna<4,>=2.5 in c:\\users\\navee\\appdata\\roaming\\python\\python313\\site-packages (from requests<3.0.0,>=2.13.0->spacy) (3.10)\n",
      "Requirement already satisfied: urllib3<3,>=1.21.1 in c:\\users\\navee\\appdata\\roaming\\python\\python313\\site-packages (from requests<3.0.0,>=2.13.0->spacy) (2.3.0)\n",
      "Requirement already satisfied: certifi>=2017.4.17 in c:\\users\\navee\\appdata\\roaming\\python\\python313\\site-packages (from requests<3.0.0,>=2.13.0->spacy) (2024.12.14)\n",
      "Requirement already satisfied: blis<1.4.0,>=1.3.0 in d:\\anaconda3\\lib\\site-packages (from thinc<8.4.0,>=8.3.4->spacy) (1.3.0)\n",
      "Requirement already satisfied: confection<1.0.0,>=0.0.1 in d:\\anaconda3\\lib\\site-packages (from thinc<8.4.0,>=8.3.4->spacy) (0.1.5)\n",
      "Requirement already satisfied: colorama in c:\\users\\navee\\appdata\\roaming\\python\\python313\\site-packages (from tqdm<5.0.0,>=4.38.0->spacy) (0.4.6)\n",
      "Requirement already satisfied: click<9.0.0,>=7.1.1 in c:\\users\\navee\\appdata\\roaming\\python\\python313\\site-packages (from typer<1.0.0,>=0.3.0->spacy) (8.1.8)\n",
      "Requirement already satisfied: cloudpathlib<1.0.0,>=0.7.0 in d:\\anaconda3\\lib\\site-packages (from weasel<0.5.0,>=0.1.0->spacy) (0.22.0)\n",
      "Requirement already satisfied: smart-open<8.0.0,>=5.2.1 in d:\\anaconda3\\lib\\site-packages (from weasel<0.5.0,>=0.1.0->spacy) (7.3.1)\n",
      "Requirement already satisfied: wrapt in d:\\anaconda3\\lib\\site-packages (from smart-open<8.0.0,>=5.2.1->weasel<0.5.0,>=0.1.0->spacy) (1.17.0)\n",
      "Requirement already satisfied: marisa-trie>=1.1.0 in d:\\anaconda3\\lib\\site-packages (from language-data>=1.2->langcodes<4.0.0,>=3.2.0->spacy) (1.3.1)\n",
      "Requirement already satisfied: MarkupSafe>=2.0 in c:\\users\\navee\\appdata\\roaming\\python\\python313\\site-packages (from jinja2->spacy) (3.0.2)\n"
     ]
    }
   ],
   "source": [
    "!pip install spacy"
   ]
  },
  {
   "cell_type": "code",
   "execution_count": 2,
   "id": "bca52e50-6722-4f48-af6b-3090ce342c03",
   "metadata": {},
   "outputs": [
    {
     "name": "stdout",
     "output_type": "stream",
     "text": [
      "Collecting en-core-web-sm==3.8.0\n",
      "  Downloading https://github.com/explosion/spacy-models/releases/download/en_core_web_sm-3.8.0/en_core_web_sm-3.8.0-py3-none-any.whl (12.8 MB)\n",
      "     ---------------------------------------- 0.0/12.8 MB ? eta -:--:--\n",
      "     --------- ------------------------------ 2.9/12.8 MB 13.7 MB/s eta 0:00:01\n",
      "     ------------------ --------------------- 5.8/12.8 MB 13.4 MB/s eta 0:00:01\n",
      "     --------------------------- ------------ 8.7/12.8 MB 13.1 MB/s eta 0:00:01\n",
      "     ---------------------------------- ---- 11.3/12.8 MB 12.8 MB/s eta 0:00:01\n",
      "     ---------------------------------------- 12.8/12.8 MB 11.9 MB/s  0:00:01\n",
      "Installing collected packages: en-core-web-sm\n",
      "Successfully installed en-core-web-sm-3.8.0\n",
      "\u001b[38;5;2m[+] Download and installation successful\u001b[0m\n",
      "You can now load the package via spacy.load('en_core_web_sm')\n"
     ]
    }
   ],
   "source": [
    "!python -m spacy download en_core_web_sm"
   ]
  },
  {
   "cell_type": "code",
   "execution_count": 1,
   "id": "275f66a9-92ff-4209-9513-0145ab8d8a16",
   "metadata": {},
   "outputs": [],
   "source": [
    "import pandas as pd\n",
    "import numpy as np\n",
    "import matplotlib.pyplot as plt\n",
    "import seaborn as sns\n",
    "import string\n",
    "from nltk.corpus import stopwords\n",
    "from nltk.stem import WordNetLemmatizer\n",
    "from nltk.stem.porter import PorterStemmer\n",
    "from nltk.tokenize import word_tokenize,sent_tokenize\n",
    "from sklearn.feature_extraction.text import CountVectorizer,TfidfTransformer\n",
    "import re\n",
    "import spacy\n",
    "nlp= spacy.load('en_core_web_sm')"
   ]
  },
  {
   "cell_type": "code",
   "execution_count": 2,
   "id": "bdadc4cf-8beb-4abb-a8f3-cd1463b7b1aa",
   "metadata": {},
   "outputs": [
    {
     "data": {
      "text/html": [
       "<div>\n",
       "<style scoped>\n",
       "    .dataframe tbody tr th:only-of-type {\n",
       "        vertical-align: middle;\n",
       "    }\n",
       "\n",
       "    .dataframe tbody tr th {\n",
       "        vertical-align: top;\n",
       "    }\n",
       "\n",
       "    .dataframe thead th {\n",
       "        text-align: right;\n",
       "    }\n",
       "</style>\n",
       "<table border=\"1\" class=\"dataframe\">\n",
       "  <thead>\n",
       "    <tr style=\"text-align: right;\">\n",
       "      <th></th>\n",
       "      <th>Data</th>\n",
       "      <th>Labels</th>\n",
       "    </tr>\n",
       "  </thead>\n",
       "  <tbody>\n",
       "    <tr>\n",
       "      <th>0</th>\n",
       "      <td>Path: cantaloupe.srv.cs.cmu.edu!magnesium.club...</td>\n",
       "      <td>alt.atheism</td>\n",
       "    </tr>\n",
       "    <tr>\n",
       "      <th>1</th>\n",
       "      <td>Newsgroups: alt.atheism\\nPath: cantaloupe.srv....</td>\n",
       "      <td>alt.atheism</td>\n",
       "    </tr>\n",
       "    <tr>\n",
       "      <th>2</th>\n",
       "      <td>Path: cantaloupe.srv.cs.cmu.edu!das-news.harva...</td>\n",
       "      <td>alt.atheism</td>\n",
       "    </tr>\n",
       "    <tr>\n",
       "      <th>3</th>\n",
       "      <td>Path: cantaloupe.srv.cs.cmu.edu!magnesium.club...</td>\n",
       "      <td>alt.atheism</td>\n",
       "    </tr>\n",
       "    <tr>\n",
       "      <th>4</th>\n",
       "      <td>Xref: cantaloupe.srv.cs.cmu.edu alt.atheism:53...</td>\n",
       "      <td>alt.atheism</td>\n",
       "    </tr>\n",
       "  </tbody>\n",
       "</table>\n",
       "</div>"
      ],
      "text/plain": [
       "                                                Data       Labels\n",
       "0  Path: cantaloupe.srv.cs.cmu.edu!magnesium.club...  alt.atheism\n",
       "1  Newsgroups: alt.atheism\\nPath: cantaloupe.srv....  alt.atheism\n",
       "2  Path: cantaloupe.srv.cs.cmu.edu!das-news.harva...  alt.atheism\n",
       "3  Path: cantaloupe.srv.cs.cmu.edu!magnesium.club...  alt.atheism\n",
       "4  Xref: cantaloupe.srv.cs.cmu.edu alt.atheism:53...  alt.atheism"
      ]
     },
     "execution_count": 2,
     "metadata": {},
     "output_type": "execute_result"
    }
   ],
   "source": [
    "df=pd.read_csv('blogs.csv')\n",
    "df.head()"
   ]
  },
  {
   "cell_type": "code",
   "execution_count": 3,
   "id": "46ff6ecf-4580-49f5-a9a3-e9c9f9154005",
   "metadata": {},
   "outputs": [
    {
     "data": {
      "text/plain": [
       "Data      0\n",
       "Labels    0\n",
       "dtype: int64"
      ]
     },
     "execution_count": 3,
     "metadata": {},
     "output_type": "execute_result"
    }
   ],
   "source": [
    "df.isnull().sum()"
   ]
  },
  {
   "cell_type": "code",
   "execution_count": 4,
   "id": "e09c36aa-1b2c-422b-88d9-21c659e9d466",
   "metadata": {},
   "outputs": [
    {
     "data": {
      "text/plain": [
       "np.int64(0)"
      ]
     },
     "execution_count": 4,
     "metadata": {},
     "output_type": "execute_result"
    }
   ],
   "source": [
    "df.duplicated().sum()"
   ]
  },
  {
   "cell_type": "code",
   "execution_count": 50,
   "id": "eb82d7c7-5dcb-4c19-8c89-17607b5421f8",
   "metadata": {},
   "outputs": [],
   "source": [
    "def data_clean(text):\n",
    "    text1= ' '.join(re.findall('\\w+',text))\n",
    "    doc= nlp(text1)\n",
    "    clean_data= [token for token in doc  if not token.is_stop and not token.is_punct\n",
    "               and not token.is_digit and not token.is_bracket and not token.is_currency]\n",
    "    return clean_data"
   ]
  },
  {
   "cell_type": "code",
   "execution_count": 8,
   "id": "b7efeee2-58e2-4817-83be-bdd3ead1f468",
   "metadata": {},
   "outputs": [],
   "source": [
    "count= CountVectorizer(analyzer=preprocess_text)"
   ]
  },
  {
   "cell_type": "code",
   "execution_count": 9,
   "id": "d32517f8-6333-48b4-8070-0555496a2112",
   "metadata": {},
   "outputs": [],
   "source": [
    "x= count.fit_transform(df['Data'])"
   ]
  },
  {
   "cell_type": "code",
   "execution_count": 10,
   "id": "45c75f55-7751-4d43-aa6e-fb63a9d5619c",
   "metadata": {},
   "outputs": [],
   "source": [
    "tfidf= TfidfTransformer()"
   ]
  },
  {
   "cell_type": "code",
   "execution_count": 49,
   "id": "4c5a6f59-f97b-41c2-b1f1-132dcfd7f2ca",
   "metadata": {},
   "outputs": [],
   "source": [
    "y= tfidf.fit_transform(x)"
   ]
  },
  {
   "cell_type": "code",
   "execution_count": 19,
   "id": "97fdc22c-4cab-4d32-ae7e-f2a6878573c8",
   "metadata": {},
   "outputs": [
    {
     "data": {
      "text/plain": [
       "(2000, 459225)"
      ]
     },
     "execution_count": 19,
     "metadata": {},
     "output_type": "execute_result"
    }
   ],
   "source": [
    "x.shape"
   ]
  },
  {
   "cell_type": "code",
   "execution_count": 51,
   "id": "5e2c1296-d8ad-4a5e-8dcb-4209fef5a73c",
   "metadata": {},
   "outputs": [],
   "source": [
    "def preprocess_text(text):\n",
    "    text = text.lower()\n",
    "    text = text.translate(str.maketrans('', '', string.punctuation))\n",
    "    tokens = word_tokenize(text)\n",
    "    stop_words = set(stopwords.words('english'))\n",
    "    tokens = [word for word in tokens if word not in stop_words]\n",
    "    return ' '.join(tokens)"
   ]
  },
  {
   "cell_type": "code",
   "execution_count": 52,
   "id": "9a27d550-f4a0-45bc-b4a8-eb75561b030f",
   "metadata": {},
   "outputs": [],
   "source": [
    "df['Data']=df['Data'].apply(preprocess_text)"
   ]
  },
  {
   "cell_type": "code",
   "execution_count": 54,
   "id": "171a0bde-4706-4068-bfe1-472fcec3928d",
   "metadata": {},
   "outputs": [],
   "source": [
    "from sklearn.feature_extraction.text import TfidfVectorizer"
   ]
  },
  {
   "cell_type": "code",
   "execution_count": 55,
   "id": "49355780-7c94-48bc-a941-891beb50364e",
   "metadata": {},
   "outputs": [],
   "source": [
    "vectorizer = TfidfVectorizer()\n",
    "features = vectorizer.fit_transform(df['Data'])"
   ]
  },
  {
   "cell_type": "markdown",
   "id": "cf099c36-adda-4b23-a947-e691ef53c411",
   "metadata": {},
   "source": [
    "## 2. Naive Bayes Model for Text Classification\n",
    "       • Split the data into training and test sets.\n",
    "       • Implement a Naive Bayes classifier to categorize the blog posts into their respective categories. You can use libraries like scikit-learn for this purpose.\n",
    "       • Train the model on the training set and make predictions on the test set.\n"
   ]
  },
  {
   "cell_type": "code",
   "execution_count": 56,
   "id": "ec8c38fa-7071-400a-abf5-b9731c0bf4e8",
   "metadata": {},
   "outputs": [],
   "source": [
    "from sklearn.model_selection import train_test_split\n",
    "from sklearn.naive_bayes import MultinomialNB,GaussianNB,BernoulliNB\n",
    "from sklearn.metrics import accuracy_score,precision_score,recall_score,f1_score"
   ]
  },
  {
   "cell_type": "code",
   "execution_count": 57,
   "id": "eacd50be-abd1-458a-a9ab-219ca39acb9b",
   "metadata": {},
   "outputs": [
    {
     "data": {
      "text/plain": [
       "<Compressed Sparse Row sparse matrix of dtype 'float64'\n",
       "\twith 268023 stored elements and shape (2000, 56432)>"
      ]
     },
     "execution_count": 57,
     "metadata": {},
     "output_type": "execute_result"
    }
   ],
   "source": [
    "features"
   ]
  },
  {
   "cell_type": "code",
   "execution_count": 58,
   "id": "db13b433-7e7c-4b58-9b31-34ebd948dc25",
   "metadata": {},
   "outputs": [],
   "source": [
    "target=df['Labels']"
   ]
  },
  {
   "cell_type": "code",
   "execution_count": 59,
   "id": "dc089070-8036-43c1-b9cb-a2b5d29b202e",
   "metadata": {},
   "outputs": [],
   "source": [
    "from sklearn.model_selection import train_test_split\n",
    "from sklearn.naive_bayes import MultinomialNB"
   ]
  },
  {
   "cell_type": "code",
   "execution_count": 60,
   "id": "e2f02861-8a84-4b28-933d-ac6954681e8e",
   "metadata": {},
   "outputs": [
    {
     "name": "stdout",
     "output_type": "stream",
     "text": [
      "(1600, 56432)\n",
      "(400, 56432)\n",
      "(1600,)\n",
      "(400,)\n"
     ]
    }
   ],
   "source": [
    "x_train,x_test,y_train,y_test=train_test_split(features,target,train_size=0.80,random_state=100)\n",
    "print(x_train.shape)\n",
    "print(x_test.shape)\n",
    "print(y_train.shape)\n",
    "print(y_test.shape)"
   ]
  },
  {
   "cell_type": "code",
   "execution_count": 61,
   "id": "f56e3c48-f53d-451e-8f62-224752e90f49",
   "metadata": {},
   "outputs": [],
   "source": [
    "multi=MultinomialNB()"
   ]
  },
  {
   "cell_type": "code",
   "execution_count": 62,
   "id": "0c55f5b6-0bbf-4ce3-8d36-e8205859baba",
   "metadata": {},
   "outputs": [],
   "source": [
    "multi.fit(x_train,y_train)\n",
    "y_pred= multi.predict(x_test)"
   ]
  },
  {
   "cell_type": "markdown",
   "id": "76b29db3-762b-4e2e-be8b-9759626991df",
   "metadata": {},
   "source": [
    "## 3. Sentiment Analysis\n",
    "      • Choose a suitable library or method for performing sentiment analysis on the blog post texts.\n",
    "      • Analyze the sentiments expressed in the blog posts and categorize them as positive, negative, or neutral. Consider only the Data column and get the sentiment for each blog.\n",
    "      • Examine the distribution of sentiments across different categories and summarize your findings.\n"
   ]
  },
  {
   "cell_type": "code",
   "execution_count": 27,
   "id": "1eeb89f2-d733-4989-9fc1-98d60c98483a",
   "metadata": {},
   "outputs": [
    {
     "name": "stdout",
     "output_type": "stream",
     "text": [
      "Collecting textblob\n",
      "  Downloading textblob-0.19.0-py3-none-any.whl.metadata (4.4 kB)\n",
      "Requirement already satisfied: nltk>=3.9 in d:\\anaconda3\\lib\\site-packages (from textblob) (3.9.1)\n",
      "Requirement already satisfied: click in c:\\users\\navee\\appdata\\roaming\\python\\python313\\site-packages (from nltk>=3.9->textblob) (8.1.8)\n",
      "Requirement already satisfied: joblib in d:\\anaconda3\\lib\\site-packages (from nltk>=3.9->textblob) (1.4.2)\n",
      "Requirement already satisfied: regex>=2021.8.3 in d:\\anaconda3\\lib\\site-packages (from nltk>=3.9->textblob) (2024.11.6)\n",
      "Requirement already satisfied: tqdm in d:\\anaconda3\\lib\\site-packages (from nltk>=3.9->textblob) (4.67.1)\n",
      "Requirement already satisfied: colorama in c:\\users\\navee\\appdata\\roaming\\python\\python313\\site-packages (from click->nltk>=3.9->textblob) (0.4.6)\n",
      "Downloading textblob-0.19.0-py3-none-any.whl (624 kB)\n",
      "   ---------------------------------------- 0.0/624.3 kB ? eta -:--:--\n",
      "   ---------------------------------------- 624.3/624.3 kB 4.3 MB/s  0:00:00\n",
      "Installing collected packages: textblob\n",
      "Successfully installed textblob-0.19.0\n"
     ]
    }
   ],
   "source": [
    "!pip install textblob"
   ]
  },
  {
   "cell_type": "code",
   "execution_count": 30,
   "id": "0ee9320f-4bb5-44d5-b5cf-ab89b889ba9c",
   "metadata": {},
   "outputs": [],
   "source": [
    "from textblob import TextBlob"
   ]
  },
  {
   "cell_type": "code",
   "execution_count": 31,
   "id": "9a5c0c60-18f2-4bdd-9a09-060df21c20b3",
   "metadata": {},
   "outputs": [],
   "source": [
    "def sent_count(text):\n",
    "  sent1= TextBlob(text)\n",
    "  return sent1.sentiment.polarity"
   ]
  },
  {
   "cell_type": "code",
   "execution_count": 32,
   "id": "f304ac56-ba8a-4a4d-ab77-01b6de3f3890",
   "metadata": {},
   "outputs": [],
   "source": [
    "df['Blob_sent']= df['Data'].apply(sent_count)"
   ]
  },
  {
   "cell_type": "code",
   "execution_count": 33,
   "id": "6671568b-694b-42b3-a37e-dbc74a06d00e",
   "metadata": {},
   "outputs": [
    {
     "data": {
      "text/html": [
       "<div>\n",
       "<style scoped>\n",
       "    .dataframe tbody tr th:only-of-type {\n",
       "        vertical-align: middle;\n",
       "    }\n",
       "\n",
       "    .dataframe tbody tr th {\n",
       "        vertical-align: top;\n",
       "    }\n",
       "\n",
       "    .dataframe thead th {\n",
       "        text-align: right;\n",
       "    }\n",
       "</style>\n",
       "<table border=\"1\" class=\"dataframe\">\n",
       "  <thead>\n",
       "    <tr style=\"text-align: right;\">\n",
       "      <th></th>\n",
       "      <th>Data</th>\n",
       "      <th>Labels</th>\n",
       "      <th>Blob_sent</th>\n",
       "    </tr>\n",
       "  </thead>\n",
       "  <tbody>\n",
       "    <tr>\n",
       "      <th>0</th>\n",
       "      <td>Path: cantaloupe.srv.cs.cmu.edu!magnesium.club...</td>\n",
       "      <td>alt.atheism</td>\n",
       "      <td>0.072213</td>\n",
       "    </tr>\n",
       "    <tr>\n",
       "      <th>1</th>\n",
       "      <td>Newsgroups: alt.atheism\\nPath: cantaloupe.srv....</td>\n",
       "      <td>alt.atheism</td>\n",
       "      <td>-0.053757</td>\n",
       "    </tr>\n",
       "    <tr>\n",
       "      <th>2</th>\n",
       "      <td>Path: cantaloupe.srv.cs.cmu.edu!das-news.harva...</td>\n",
       "      <td>alt.atheism</td>\n",
       "      <td>0.093119</td>\n",
       "    </tr>\n",
       "    <tr>\n",
       "      <th>3</th>\n",
       "      <td>Path: cantaloupe.srv.cs.cmu.edu!magnesium.club...</td>\n",
       "      <td>alt.atheism</td>\n",
       "      <td>0.055008</td>\n",
       "    </tr>\n",
       "    <tr>\n",
       "      <th>4</th>\n",
       "      <td>Xref: cantaloupe.srv.cs.cmu.edu alt.atheism:53...</td>\n",
       "      <td>alt.atheism</td>\n",
       "      <td>0.132183</td>\n",
       "    </tr>\n",
       "  </tbody>\n",
       "</table>\n",
       "</div>"
      ],
      "text/plain": [
       "                                                Data       Labels  Blob_sent\n",
       "0  Path: cantaloupe.srv.cs.cmu.edu!magnesium.club...  alt.atheism   0.072213\n",
       "1  Newsgroups: alt.atheism\\nPath: cantaloupe.srv....  alt.atheism  -0.053757\n",
       "2  Path: cantaloupe.srv.cs.cmu.edu!das-news.harva...  alt.atheism   0.093119\n",
       "3  Path: cantaloupe.srv.cs.cmu.edu!magnesium.club...  alt.atheism   0.055008\n",
       "4  Xref: cantaloupe.srv.cs.cmu.edu alt.atheism:53...  alt.atheism   0.132183"
      ]
     },
     "execution_count": 33,
     "metadata": {},
     "output_type": "execute_result"
    }
   ],
   "source": [
    "df.head()"
   ]
  },
  {
   "cell_type": "code",
   "execution_count": 36,
   "id": "38291604-1d88-4a80-a28c-ae274807cbfe",
   "metadata": {},
   "outputs": [
    {
     "data": {
      "text/html": [
       "<div>\n",
       "<style scoped>\n",
       "    .dataframe tbody tr th:only-of-type {\n",
       "        vertical-align: middle;\n",
       "    }\n",
       "\n",
       "    .dataframe tbody tr th {\n",
       "        vertical-align: top;\n",
       "    }\n",
       "\n",
       "    .dataframe thead th {\n",
       "        text-align: right;\n",
       "    }\n",
       "</style>\n",
       "<table border=\"1\" class=\"dataframe\">\n",
       "  <thead>\n",
       "    <tr style=\"text-align: right;\">\n",
       "      <th></th>\n",
       "      <th>Data</th>\n",
       "      <th>Labels</th>\n",
       "      <th>Blob_sent</th>\n",
       "    </tr>\n",
       "  </thead>\n",
       "  <tbody>\n",
       "    <tr>\n",
       "      <th>1</th>\n",
       "      <td>Newsgroups: alt.atheism\\nPath: cantaloupe.srv....</td>\n",
       "      <td>alt.atheism</td>\n",
       "      <td>-0.053757</td>\n",
       "    </tr>\n",
       "    <tr>\n",
       "      <th>7</th>\n",
       "      <td>Path: cantaloupe.srv.cs.cmu.edu!das-news.harva...</td>\n",
       "      <td>alt.atheism</td>\n",
       "      <td>-0.010606</td>\n",
       "    </tr>\n",
       "    <tr>\n",
       "      <th>14</th>\n",
       "      <td>Path: cantaloupe.srv.cs.cmu.edu!das-news.harva...</td>\n",
       "      <td>alt.atheism</td>\n",
       "      <td>-0.041667</td>\n",
       "    </tr>\n",
       "    <tr>\n",
       "      <th>30</th>\n",
       "      <td>Path: cantaloupe.srv.cs.cmu.edu!das-news.harva...</td>\n",
       "      <td>alt.atheism</td>\n",
       "      <td>-0.145556</td>\n",
       "    </tr>\n",
       "    <tr>\n",
       "      <th>35</th>\n",
       "      <td>Path: cantaloupe.srv.cs.cmu.edu!das-news.harva...</td>\n",
       "      <td>alt.atheism</td>\n",
       "      <td>-0.176282</td>\n",
       "    </tr>\n",
       "    <tr>\n",
       "      <th>...</th>\n",
       "      <td>...</td>\n",
       "      <td>...</td>\n",
       "      <td>...</td>\n",
       "    </tr>\n",
       "    <tr>\n",
       "      <th>1987</th>\n",
       "      <td>Xref: cantaloupe.srv.cs.cmu.edu talk.religion....</td>\n",
       "      <td>talk.religion.misc</td>\n",
       "      <td>-0.150000</td>\n",
       "    </tr>\n",
       "    <tr>\n",
       "      <th>1989</th>\n",
       "      <td>Xref: cantaloupe.srv.cs.cmu.edu alt.conspiracy...</td>\n",
       "      <td>talk.religion.misc</td>\n",
       "      <td>-0.070296</td>\n",
       "    </tr>\n",
       "    <tr>\n",
       "      <th>1990</th>\n",
       "      <td>Xref: cantaloupe.srv.cs.cmu.edu alt.atheism:53...</td>\n",
       "      <td>talk.religion.misc</td>\n",
       "      <td>-0.031548</td>\n",
       "    </tr>\n",
       "    <tr>\n",
       "      <th>1991</th>\n",
       "      <td>Xref: cantaloupe.srv.cs.cmu.edu alt.atheism:53...</td>\n",
       "      <td>talk.religion.misc</td>\n",
       "      <td>-0.060193</td>\n",
       "    </tr>\n",
       "    <tr>\n",
       "      <th>1994</th>\n",
       "      <td>Xref: cantaloupe.srv.cs.cmu.edu talk.religion....</td>\n",
       "      <td>talk.religion.misc</td>\n",
       "      <td>-0.035069</td>\n",
       "    </tr>\n",
       "  </tbody>\n",
       "</table>\n",
       "<p>457 rows × 3 columns</p>\n",
       "</div>"
      ],
      "text/plain": [
       "                                                   Data              Labels  \\\n",
       "1     Newsgroups: alt.atheism\\nPath: cantaloupe.srv....         alt.atheism   \n",
       "7     Path: cantaloupe.srv.cs.cmu.edu!das-news.harva...         alt.atheism   \n",
       "14    Path: cantaloupe.srv.cs.cmu.edu!das-news.harva...         alt.atheism   \n",
       "30    Path: cantaloupe.srv.cs.cmu.edu!das-news.harva...         alt.atheism   \n",
       "35    Path: cantaloupe.srv.cs.cmu.edu!das-news.harva...         alt.atheism   \n",
       "...                                                 ...                 ...   \n",
       "1987  Xref: cantaloupe.srv.cs.cmu.edu talk.religion....  talk.religion.misc   \n",
       "1989  Xref: cantaloupe.srv.cs.cmu.edu alt.conspiracy...  talk.religion.misc   \n",
       "1990  Xref: cantaloupe.srv.cs.cmu.edu alt.atheism:53...  talk.religion.misc   \n",
       "1991  Xref: cantaloupe.srv.cs.cmu.edu alt.atheism:53...  talk.religion.misc   \n",
       "1994  Xref: cantaloupe.srv.cs.cmu.edu talk.religion....  talk.religion.misc   \n",
       "\n",
       "      Blob_sent  \n",
       "1     -0.053757  \n",
       "7     -0.010606  \n",
       "14    -0.041667  \n",
       "30    -0.145556  \n",
       "35    -0.176282  \n",
       "...         ...  \n",
       "1987  -0.150000  \n",
       "1989  -0.070296  \n",
       "1990  -0.031548  \n",
       "1991  -0.060193  \n",
       "1994  -0.035069  \n",
       "\n",
       "[457 rows x 3 columns]"
      ]
     },
     "execution_count": 36,
     "metadata": {},
     "output_type": "execute_result"
    }
   ],
   "source": [
    "df[df['Blob_sent']<0]"
   ]
  },
  {
   "cell_type": "code",
   "execution_count": 38,
   "id": "c62b8f39-8c06-4d45-a8e9-c5988d5cc5b3",
   "metadata": {},
   "outputs": [
    {
     "data": {
      "text/html": [
       "<div>\n",
       "<style scoped>\n",
       "    .dataframe tbody tr th:only-of-type {\n",
       "        vertical-align: middle;\n",
       "    }\n",
       "\n",
       "    .dataframe tbody tr th {\n",
       "        vertical-align: top;\n",
       "    }\n",
       "\n",
       "    .dataframe thead th {\n",
       "        text-align: right;\n",
       "    }\n",
       "</style>\n",
       "<table border=\"1\" class=\"dataframe\">\n",
       "  <thead>\n",
       "    <tr style=\"text-align: right;\">\n",
       "      <th></th>\n",
       "      <th>Data</th>\n",
       "      <th>Labels</th>\n",
       "      <th>Blob_sent</th>\n",
       "    </tr>\n",
       "  </thead>\n",
       "  <tbody>\n",
       "    <tr>\n",
       "      <th>0</th>\n",
       "      <td>Path: cantaloupe.srv.cs.cmu.edu!magnesium.club...</td>\n",
       "      <td>alt.atheism</td>\n",
       "      <td>0.072213</td>\n",
       "    </tr>\n",
       "    <tr>\n",
       "      <th>2</th>\n",
       "      <td>Path: cantaloupe.srv.cs.cmu.edu!das-news.harva...</td>\n",
       "      <td>alt.atheism</td>\n",
       "      <td>0.093119</td>\n",
       "    </tr>\n",
       "    <tr>\n",
       "      <th>3</th>\n",
       "      <td>Path: cantaloupe.srv.cs.cmu.edu!magnesium.club...</td>\n",
       "      <td>alt.atheism</td>\n",
       "      <td>0.055008</td>\n",
       "    </tr>\n",
       "    <tr>\n",
       "      <th>4</th>\n",
       "      <td>Xref: cantaloupe.srv.cs.cmu.edu alt.atheism:53...</td>\n",
       "      <td>alt.atheism</td>\n",
       "      <td>0.132183</td>\n",
       "    </tr>\n",
       "    <tr>\n",
       "      <th>5</th>\n",
       "      <td>Xref: cantaloupe.srv.cs.cmu.edu talk.abortion:...</td>\n",
       "      <td>alt.atheism</td>\n",
       "      <td>0.066416</td>\n",
       "    </tr>\n",
       "    <tr>\n",
       "      <th>...</th>\n",
       "      <td>...</td>\n",
       "      <td>...</td>\n",
       "      <td>...</td>\n",
       "    </tr>\n",
       "    <tr>\n",
       "      <th>1995</th>\n",
       "      <td>Xref: cantaloupe.srv.cs.cmu.edu talk.abortion:...</td>\n",
       "      <td>talk.religion.misc</td>\n",
       "      <td>0.024232</td>\n",
       "    </tr>\n",
       "    <tr>\n",
       "      <th>1996</th>\n",
       "      <td>Xref: cantaloupe.srv.cs.cmu.edu talk.religion....</td>\n",
       "      <td>talk.religion.misc</td>\n",
       "      <td>0.153333</td>\n",
       "    </tr>\n",
       "    <tr>\n",
       "      <th>1997</th>\n",
       "      <td>Xref: cantaloupe.srv.cs.cmu.edu talk.origins:4...</td>\n",
       "      <td>talk.religion.misc</td>\n",
       "      <td>0.120370</td>\n",
       "    </tr>\n",
       "    <tr>\n",
       "      <th>1998</th>\n",
       "      <td>Xref: cantaloupe.srv.cs.cmu.edu talk.religion....</td>\n",
       "      <td>talk.religion.misc</td>\n",
       "      <td>0.111306</td>\n",
       "    </tr>\n",
       "    <tr>\n",
       "      <th>1999</th>\n",
       "      <td>Xref: cantaloupe.srv.cs.cmu.edu sci.skeptic:43...</td>\n",
       "      <td>talk.religion.misc</td>\n",
       "      <td>0.076071</td>\n",
       "    </tr>\n",
       "  </tbody>\n",
       "</table>\n",
       "<p>1543 rows × 3 columns</p>\n",
       "</div>"
      ],
      "text/plain": [
       "                                                   Data              Labels  \\\n",
       "0     Path: cantaloupe.srv.cs.cmu.edu!magnesium.club...         alt.atheism   \n",
       "2     Path: cantaloupe.srv.cs.cmu.edu!das-news.harva...         alt.atheism   \n",
       "3     Path: cantaloupe.srv.cs.cmu.edu!magnesium.club...         alt.atheism   \n",
       "4     Xref: cantaloupe.srv.cs.cmu.edu alt.atheism:53...         alt.atheism   \n",
       "5     Xref: cantaloupe.srv.cs.cmu.edu talk.abortion:...         alt.atheism   \n",
       "...                                                 ...                 ...   \n",
       "1995  Xref: cantaloupe.srv.cs.cmu.edu talk.abortion:...  talk.religion.misc   \n",
       "1996  Xref: cantaloupe.srv.cs.cmu.edu talk.religion....  talk.religion.misc   \n",
       "1997  Xref: cantaloupe.srv.cs.cmu.edu talk.origins:4...  talk.religion.misc   \n",
       "1998  Xref: cantaloupe.srv.cs.cmu.edu talk.religion....  talk.religion.misc   \n",
       "1999  Xref: cantaloupe.srv.cs.cmu.edu sci.skeptic:43...  talk.religion.misc   \n",
       "\n",
       "      Blob_sent  \n",
       "0      0.072213  \n",
       "2      0.093119  \n",
       "3      0.055008  \n",
       "4      0.132183  \n",
       "5      0.066416  \n",
       "...         ...  \n",
       "1995   0.024232  \n",
       "1996   0.153333  \n",
       "1997   0.120370  \n",
       "1998   0.111306  \n",
       "1999   0.076071  \n",
       "\n",
       "[1543 rows x 3 columns]"
      ]
     },
     "execution_count": 38,
     "metadata": {},
     "output_type": "execute_result"
    }
   ],
   "source": [
    "df[df['Blob_sent']>0]"
   ]
  },
  {
   "cell_type": "markdown",
   "id": "04528671-8530-4f8e-a017-503da3804955",
   "metadata": {},
   "source": [
    "## 4. Evaluation\n",
    "    • Evaluate the performance of your Naive Bayes classifier using metrics such as accuracy, precision, recall, and F1-score.\n",
    "    • Discuss the performance of the model and any challenges encountered during the classification process.\n",
    "    • Reflect on the sentiment analysis results and their implications regarding the content of the blog posts.\n"
   ]
  },
  {
   "cell_type": "code",
   "execution_count": 66,
   "id": "d40ae953-3c18-4186-bc09-b138f499a5d7",
   "metadata": {},
   "outputs": [
    {
     "name": "stdout",
     "output_type": "stream",
     "text": [
      "0.8275\n",
      "0.8486277788795236\n",
      "0.8275\n",
      "0.8260473425084313\n"
     ]
    }
   ],
   "source": [
    "print(accuracy_score(y_test,y_pred))\n",
    "print(precision_score(y_test,y_pred,average='weighted'))\n",
    "print(recall_score(y_test,y_pred,average='weighted'))\n",
    "print(f1_score(y_test,y_pred,average='weighted'))"
   ]
  },
  {
   "cell_type": "markdown",
   "id": "8a375c19-cfac-49f1-adfe-1cb3a9c4939c",
   "metadata": {},
   "source": [
    "#### The performance of the model was good which attained 80% accuracy.The challenge encountered was during the cleaning process since it contain lots of stop words and symbols."
   ]
  },
  {
   "cell_type": "markdown",
   "id": "1b391ba1-8ceb-4ac2-afe1-9348ae881217",
   "metadata": {},
   "source": [
    "#### I have done the sentiment analyisis using the textblob package.It analayse the text and provide some scores for better classification of the text.From the result we infer that the blog data contains both positive and negative texts."
   ]
  },
  {
   "cell_type": "code",
   "execution_count": null,
   "id": "981e44f1-3d17-479b-bd7d-5a83e4087d36",
   "metadata": {},
   "outputs": [],
   "source": []
  }
 ],
 "metadata": {
  "kernelspec": {
   "display_name": "Python 3 (ipykernel)",
   "language": "python",
   "name": "python3"
  },
  "language_info": {
   "codemirror_mode": {
    "name": "ipython",
    "version": 3
   },
   "file_extension": ".py",
   "mimetype": "text/x-python",
   "name": "python",
   "nbconvert_exporter": "python",
   "pygments_lexer": "ipython3",
   "version": "3.13.5"
  }
 },
 "nbformat": 4,
 "nbformat_minor": 5
}
